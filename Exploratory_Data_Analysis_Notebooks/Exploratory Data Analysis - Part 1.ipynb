{
 "cells": [
  {
   "cell_type": "markdown",
   "id": "97596831-8fef-4c55-891b-ab269b446be8",
   "metadata": {},
   "source": [
    "# Exploratory Data Analysis - Part 1\n",
    "\n",
    "### In this notebook, the data from Iowa Housing Price Dataset will be examined to clean any obvious extraneous values before visual exploration (in Part 2)"
   ]
  },
  {
   "cell_type": "markdown",
   "id": "1edf4738-08e1-4bab-94c1-bbded23da407",
   "metadata": {
    "jp-MarkdownHeadingCollapsed": true,
    "tags": []
   },
   "source": [
    "Let's first import the data from the training .csv file into a dataframe:"
   ]
  },
  {
   "cell_type": "code",
   "execution_count": 1,
   "id": "fe68d008-321e-46f3-a5d8-c450146fcd42",
   "metadata": {
    "tags": []
   },
   "outputs": [
    {
     "name": "stderr",
     "output_type": "stream",
     "text": [
      "-- \u001b[1mAttaching packages\u001b[22m ------------------------------------------------------------------------------- tidyverse 1.3.1 --\n",
      "\n",
      "\u001b[32mv\u001b[39m \u001b[34mggplot2\u001b[39m 3.3.5     \u001b[32mv\u001b[39m \u001b[34mpurrr  \u001b[39m 0.3.4\n",
      "\u001b[32mv\u001b[39m \u001b[34mtibble \u001b[39m 3.1.6     \u001b[32mv\u001b[39m \u001b[34mdplyr  \u001b[39m 1.0.8\n",
      "\u001b[32mv\u001b[39m \u001b[34mtidyr  \u001b[39m 1.2.0     \u001b[32mv\u001b[39m \u001b[34mstringr\u001b[39m 1.4.0\n",
      "\u001b[32mv\u001b[39m \u001b[34mreadr  \u001b[39m 2.1.2     \u001b[32mv\u001b[39m \u001b[34mforcats\u001b[39m 0.5.1\n",
      "\n",
      "-- \u001b[1mConflicts\u001b[22m ---------------------------------------------------------------------------------- tidyverse_conflicts() --\n",
      "\u001b[31mx\u001b[39m \u001b[34mdplyr\u001b[39m::\u001b[32mfilter()\u001b[39m masks \u001b[34mstats\u001b[39m::filter()\n",
      "\u001b[31mx\u001b[39m \u001b[34mdplyr\u001b[39m::\u001b[32mlag()\u001b[39m    masks \u001b[34mstats\u001b[39m::lag()\n",
      "\n"
     ]
    }
   ],
   "source": [
    "# Import tidyverse library for data analysis\n",
    "library(tidyverse)\n",
    "\n",
    "# Data file was already downloaded and saved locally\n",
    "train <- read_csv(\"train.csv\",show_col_types = FALSE)"
   ]
  },
  {
   "cell_type": "markdown",
   "id": "d3258448-3c41-4bad-852e-f1fa1726896f",
   "metadata": {},
   "source": [
    "Take a quick look at the data:"
   ]
  },
  {
   "cell_type": "code",
   "execution_count": 2,
   "id": "f7781a3c-6d1f-4623-92fb-419b26345e40",
   "metadata": {},
   "outputs": [
    {
     "data": {
      "text/html": [
       "<table class=\"dataframe\">\n",
       "<caption>A tibble: 6 × 81</caption>\n",
       "<thead>\n",
       "\t<tr><th scope=col>Id</th><th scope=col>MSSubClass</th><th scope=col>MSZoning</th><th scope=col>LotFrontage</th><th scope=col>LotArea</th><th scope=col>Street</th><th scope=col>Alley</th><th scope=col>LotShape</th><th scope=col>LandContour</th><th scope=col>Utilities</th><th scope=col>...</th><th scope=col>PoolArea</th><th scope=col>PoolQC</th><th scope=col>Fence</th><th scope=col>MiscFeature</th><th scope=col>MiscVal</th><th scope=col>MoSold</th><th scope=col>YrSold</th><th scope=col>SaleType</th><th scope=col>SaleCondition</th><th scope=col>SalePrice</th></tr>\n",
       "\t<tr><th scope=col>&lt;dbl&gt;</th><th scope=col>&lt;dbl&gt;</th><th scope=col>&lt;chr&gt;</th><th scope=col>&lt;dbl&gt;</th><th scope=col>&lt;dbl&gt;</th><th scope=col>&lt;chr&gt;</th><th scope=col>&lt;chr&gt;</th><th scope=col>&lt;chr&gt;</th><th scope=col>&lt;chr&gt;</th><th scope=col>&lt;chr&gt;</th><th scope=col>...</th><th scope=col>&lt;dbl&gt;</th><th scope=col>&lt;chr&gt;</th><th scope=col>&lt;chr&gt;</th><th scope=col>&lt;chr&gt;</th><th scope=col>&lt;dbl&gt;</th><th scope=col>&lt;dbl&gt;</th><th scope=col>&lt;dbl&gt;</th><th scope=col>&lt;chr&gt;</th><th scope=col>&lt;chr&gt;</th><th scope=col>&lt;dbl&gt;</th></tr>\n",
       "</thead>\n",
       "<tbody>\n",
       "\t<tr><td>1</td><td>60</td><td>RL</td><td>65</td><td> 8450</td><td>Pave</td><td>NA</td><td>Reg</td><td>Lvl</td><td>AllPub</td><td>...</td><td>0</td><td>NA</td><td>NA   </td><td>NA  </td><td>  0</td><td> 2</td><td>2008</td><td>WD</td><td>Normal </td><td>208500</td></tr>\n",
       "\t<tr><td>2</td><td>20</td><td>RL</td><td>80</td><td> 9600</td><td>Pave</td><td>NA</td><td>Reg</td><td>Lvl</td><td>AllPub</td><td>...</td><td>0</td><td>NA</td><td>NA   </td><td>NA  </td><td>  0</td><td> 5</td><td>2007</td><td>WD</td><td>Normal </td><td>181500</td></tr>\n",
       "\t<tr><td>3</td><td>60</td><td>RL</td><td>68</td><td>11250</td><td>Pave</td><td>NA</td><td>IR1</td><td>Lvl</td><td>AllPub</td><td>...</td><td>0</td><td>NA</td><td>NA   </td><td>NA  </td><td>  0</td><td> 9</td><td>2008</td><td>WD</td><td>Normal </td><td>223500</td></tr>\n",
       "\t<tr><td>4</td><td>70</td><td>RL</td><td>60</td><td> 9550</td><td>Pave</td><td>NA</td><td>IR1</td><td>Lvl</td><td>AllPub</td><td>...</td><td>0</td><td>NA</td><td>NA   </td><td>NA  </td><td>  0</td><td> 2</td><td>2006</td><td>WD</td><td>Abnorml</td><td>140000</td></tr>\n",
       "\t<tr><td>5</td><td>60</td><td>RL</td><td>84</td><td>14260</td><td>Pave</td><td>NA</td><td>IR1</td><td>Lvl</td><td>AllPub</td><td>...</td><td>0</td><td>NA</td><td>NA   </td><td>NA  </td><td>  0</td><td>12</td><td>2008</td><td>WD</td><td>Normal </td><td>250000</td></tr>\n",
       "\t<tr><td>6</td><td>50</td><td>RL</td><td>85</td><td>14115</td><td>Pave</td><td>NA</td><td>IR1</td><td>Lvl</td><td>AllPub</td><td>...</td><td>0</td><td>NA</td><td>MnPrv</td><td>Shed</td><td>700</td><td>10</td><td>2009</td><td>WD</td><td>Normal </td><td>143000</td></tr>\n",
       "</tbody>\n",
       "</table>\n"
      ],
      "text/latex": [
       "A tibble: 6 × 81\n",
       "\\begin{tabular}{lllllllllllllllllllll}\n",
       " Id & MSSubClass & MSZoning & LotFrontage & LotArea & Street & Alley & LotShape & LandContour & Utilities & ... & PoolArea & PoolQC & Fence & MiscFeature & MiscVal & MoSold & YrSold & SaleType & SaleCondition & SalePrice\\\\\n",
       " <dbl> & <dbl> & <chr> & <dbl> & <dbl> & <chr> & <chr> & <chr> & <chr> & <chr> & ... & <dbl> & <chr> & <chr> & <chr> & <dbl> & <dbl> & <dbl> & <chr> & <chr> & <dbl>\\\\\n",
       "\\hline\n",
       "\t 1 & 60 & RL & 65 &  8450 & Pave & NA & Reg & Lvl & AllPub & ... & 0 & NA & NA    & NA   &   0 &  2 & 2008 & WD & Normal  & 208500\\\\\n",
       "\t 2 & 20 & RL & 80 &  9600 & Pave & NA & Reg & Lvl & AllPub & ... & 0 & NA & NA    & NA   &   0 &  5 & 2007 & WD & Normal  & 181500\\\\\n",
       "\t 3 & 60 & RL & 68 & 11250 & Pave & NA & IR1 & Lvl & AllPub & ... & 0 & NA & NA    & NA   &   0 &  9 & 2008 & WD & Normal  & 223500\\\\\n",
       "\t 4 & 70 & RL & 60 &  9550 & Pave & NA & IR1 & Lvl & AllPub & ... & 0 & NA & NA    & NA   &   0 &  2 & 2006 & WD & Abnorml & 140000\\\\\n",
       "\t 5 & 60 & RL & 84 & 14260 & Pave & NA & IR1 & Lvl & AllPub & ... & 0 & NA & NA    & NA   &   0 & 12 & 2008 & WD & Normal  & 250000\\\\\n",
       "\t 6 & 50 & RL & 85 & 14115 & Pave & NA & IR1 & Lvl & AllPub & ... & 0 & NA & MnPrv & Shed & 700 & 10 & 2009 & WD & Normal  & 143000\\\\\n",
       "\\end{tabular}\n"
      ],
      "text/markdown": [
       "\n",
       "A tibble: 6 × 81\n",
       "\n",
       "| Id &lt;dbl&gt; | MSSubClass &lt;dbl&gt; | MSZoning &lt;chr&gt; | LotFrontage &lt;dbl&gt; | LotArea &lt;dbl&gt; | Street &lt;chr&gt; | Alley &lt;chr&gt; | LotShape &lt;chr&gt; | LandContour &lt;chr&gt; | Utilities &lt;chr&gt; | ... ... | PoolArea &lt;dbl&gt; | PoolQC &lt;chr&gt; | Fence &lt;chr&gt; | MiscFeature &lt;chr&gt; | MiscVal &lt;dbl&gt; | MoSold &lt;dbl&gt; | YrSold &lt;dbl&gt; | SaleType &lt;chr&gt; | SaleCondition &lt;chr&gt; | SalePrice &lt;dbl&gt; |\n",
       "|---|---|---|---|---|---|---|---|---|---|---|---|---|---|---|---|---|---|---|---|---|\n",
       "| 1 | 60 | RL | 65 |  8450 | Pave | NA | Reg | Lvl | AllPub | ... | 0 | NA | NA    | NA   |   0 |  2 | 2008 | WD | Normal  | 208500 |\n",
       "| 2 | 20 | RL | 80 |  9600 | Pave | NA | Reg | Lvl | AllPub | ... | 0 | NA | NA    | NA   |   0 |  5 | 2007 | WD | Normal  | 181500 |\n",
       "| 3 | 60 | RL | 68 | 11250 | Pave | NA | IR1 | Lvl | AllPub | ... | 0 | NA | NA    | NA   |   0 |  9 | 2008 | WD | Normal  | 223500 |\n",
       "| 4 | 70 | RL | 60 |  9550 | Pave | NA | IR1 | Lvl | AllPub | ... | 0 | NA | NA    | NA   |   0 |  2 | 2006 | WD | Abnorml | 140000 |\n",
       "| 5 | 60 | RL | 84 | 14260 | Pave | NA | IR1 | Lvl | AllPub | ... | 0 | NA | NA    | NA   |   0 | 12 | 2008 | WD | Normal  | 250000 |\n",
       "| 6 | 50 | RL | 85 | 14115 | Pave | NA | IR1 | Lvl | AllPub | ... | 0 | NA | MnPrv | Shed | 700 | 10 | 2009 | WD | Normal  | 143000 |\n",
       "\n"
      ],
      "text/plain": [
       "  Id MSSubClass MSZoning LotFrontage LotArea Street Alley LotShape LandContour\n",
       "1 1  60         RL       65           8450   Pave   NA    Reg      Lvl        \n",
       "2 2  20         RL       80           9600   Pave   NA    Reg      Lvl        \n",
       "3 3  60         RL       68          11250   Pave   NA    IR1      Lvl        \n",
       "4 4  70         RL       60           9550   Pave   NA    IR1      Lvl        \n",
       "5 5  60         RL       84          14260   Pave   NA    IR1      Lvl        \n",
       "6 6  50         RL       85          14115   Pave   NA    IR1      Lvl        \n",
       "  Utilities ... PoolArea PoolQC Fence MiscFeature MiscVal MoSold YrSold\n",
       "1 AllPub    ... 0        NA     NA    NA            0      2     2008  \n",
       "2 AllPub    ... 0        NA     NA    NA            0      5     2007  \n",
       "3 AllPub    ... 0        NA     NA    NA            0      9     2008  \n",
       "4 AllPub    ... 0        NA     NA    NA            0      2     2006  \n",
       "5 AllPub    ... 0        NA     NA    NA            0     12     2008  \n",
       "6 AllPub    ... 0        NA     MnPrv Shed        700     10     2009  \n",
       "  SaleType SaleCondition SalePrice\n",
       "1 WD       Normal        208500   \n",
       "2 WD       Normal        181500   \n",
       "3 WD       Normal        223500   \n",
       "4 WD       Abnorml       140000   \n",
       "5 WD       Normal        250000   \n",
       "6 WD       Normal        143000   "
      ]
     },
     "metadata": {},
     "output_type": "display_data"
    },
    {
     "name": "stdout",
     "output_type": "stream",
     "text": [
      "Rows: 1,460\n",
      "Columns: 81\n",
      "$ Id            \u001b[3m\u001b[90m<dbl>\u001b[39m\u001b[23m 1, 2, 3, 4, 5, 6, 7, 8, 9, 10, 11, 12, 13, 14, 15, 16, 1~\n",
      "$ MSSubClass    \u001b[3m\u001b[90m<dbl>\u001b[39m\u001b[23m 60, 20, 60, 70, 60, 50, 20, 60, 50, 190, 20, 60, 20, 20,~\n",
      "$ MSZoning      \u001b[3m\u001b[90m<chr>\u001b[39m\u001b[23m \"RL\", \"RL\", \"RL\", \"RL\", \"RL\", \"RL\", \"RL\", \"RL\", \"RM\", \"R~\n",
      "$ LotFrontage   \u001b[3m\u001b[90m<dbl>\u001b[39m\u001b[23m 65, 80, 68, 60, 84, 85, 75, NA, 51, 50, 70, 85, NA, 91, ~\n",
      "$ LotArea       \u001b[3m\u001b[90m<dbl>\u001b[39m\u001b[23m 8450, 9600, 11250, 9550, 14260, 14115, 10084, 10382, 612~\n",
      "$ Street        \u001b[3m\u001b[90m<chr>\u001b[39m\u001b[23m \"Pave\", \"Pave\", \"Pave\", \"Pave\", \"Pave\", \"Pave\", \"Pave\", ~\n",
      "$ Alley         \u001b[3m\u001b[90m<chr>\u001b[39m\u001b[23m NA, NA, NA, NA, NA, NA, NA, NA, NA, NA, NA, NA, NA, NA, ~\n",
      "$ LotShape      \u001b[3m\u001b[90m<chr>\u001b[39m\u001b[23m \"Reg\", \"Reg\", \"IR1\", \"IR1\", \"IR1\", \"IR1\", \"Reg\", \"IR1\", ~\n",
      "$ LandContour   \u001b[3m\u001b[90m<chr>\u001b[39m\u001b[23m \"Lvl\", \"Lvl\", \"Lvl\", \"Lvl\", \"Lvl\", \"Lvl\", \"Lvl\", \"Lvl\", ~\n",
      "$ Utilities     \u001b[3m\u001b[90m<chr>\u001b[39m\u001b[23m \"AllPub\", \"AllPub\", \"AllPub\", \"AllPub\", \"AllPub\", \"AllPu~\n",
      "$ LotConfig     \u001b[3m\u001b[90m<chr>\u001b[39m\u001b[23m \"Inside\", \"FR2\", \"Inside\", \"Corner\", \"FR2\", \"Inside\", \"I~\n",
      "$ LandSlope     \u001b[3m\u001b[90m<chr>\u001b[39m\u001b[23m \"Gtl\", \"Gtl\", \"Gtl\", \"Gtl\", \"Gtl\", \"Gtl\", \"Gtl\", \"Gtl\", ~\n",
      "$ Neighborhood  \u001b[3m\u001b[90m<chr>\u001b[39m\u001b[23m \"CollgCr\", \"Veenker\", \"CollgCr\", \"Crawfor\", \"NoRidge\", \"~\n",
      "$ Condition1    \u001b[3m\u001b[90m<chr>\u001b[39m\u001b[23m \"Norm\", \"Feedr\", \"Norm\", \"Norm\", \"Norm\", \"Norm\", \"Norm\",~\n",
      "$ Condition2    \u001b[3m\u001b[90m<chr>\u001b[39m\u001b[23m \"Norm\", \"Norm\", \"Norm\", \"Norm\", \"Norm\", \"Norm\", \"Norm\", ~\n",
      "$ BldgType      \u001b[3m\u001b[90m<chr>\u001b[39m\u001b[23m \"1Fam\", \"1Fam\", \"1Fam\", \"1Fam\", \"1Fam\", \"1Fam\", \"1Fam\", ~\n",
      "$ HouseStyle    \u001b[3m\u001b[90m<chr>\u001b[39m\u001b[23m \"2Story\", \"1Story\", \"2Story\", \"2Story\", \"2Story\", \"1.5Fi~\n",
      "$ OverallQual   \u001b[3m\u001b[90m<dbl>\u001b[39m\u001b[23m 7, 6, 7, 7, 8, 5, 8, 7, 7, 5, 5, 9, 5, 7, 6, 7, 6, 4, 5,~\n",
      "$ OverallCond   \u001b[3m\u001b[90m<dbl>\u001b[39m\u001b[23m 5, 8, 5, 5, 5, 5, 5, 6, 5, 6, 5, 5, 6, 5, 5, 8, 7, 5, 5,~\n",
      "$ YearBuilt     \u001b[3m\u001b[90m<dbl>\u001b[39m\u001b[23m 2003, 1976, 2001, 1915, 2000, 1993, 2004, 1973, 1931, 19~\n",
      "$ YearRemodAdd  \u001b[3m\u001b[90m<dbl>\u001b[39m\u001b[23m 2003, 1976, 2002, 1970, 2000, 1995, 2005, 1973, 1950, 19~\n",
      "$ RoofStyle     \u001b[3m\u001b[90m<chr>\u001b[39m\u001b[23m \"Gable\", \"Gable\", \"Gable\", \"Gable\", \"Gable\", \"Gable\", \"G~\n",
      "$ RoofMatl      \u001b[3m\u001b[90m<chr>\u001b[39m\u001b[23m \"CompShg\", \"CompShg\", \"CompShg\", \"CompShg\", \"CompShg\", \"~\n",
      "$ Exterior1st   \u001b[3m\u001b[90m<chr>\u001b[39m\u001b[23m \"VinylSd\", \"MetalSd\", \"VinylSd\", \"Wd Sdng\", \"VinylSd\", \"~\n",
      "$ Exterior2nd   \u001b[3m\u001b[90m<chr>\u001b[39m\u001b[23m \"VinylSd\", \"MetalSd\", \"VinylSd\", \"Wd Shng\", \"VinylSd\", \"~\n",
      "$ MasVnrType    \u001b[3m\u001b[90m<chr>\u001b[39m\u001b[23m \"BrkFace\", \"None\", \"BrkFace\", \"None\", \"BrkFace\", \"None\",~\n",
      "$ MasVnrArea    \u001b[3m\u001b[90m<dbl>\u001b[39m\u001b[23m 196, 0, 162, 0, 350, 0, 186, 240, 0, 0, 0, 286, 0, 306, ~\n",
      "$ ExterQual     \u001b[3m\u001b[90m<chr>\u001b[39m\u001b[23m \"Gd\", \"TA\", \"Gd\", \"TA\", \"Gd\", \"TA\", \"Gd\", \"TA\", \"TA\", \"T~\n",
      "$ ExterCond     \u001b[3m\u001b[90m<chr>\u001b[39m\u001b[23m \"TA\", \"TA\", \"TA\", \"TA\", \"TA\", \"TA\", \"TA\", \"TA\", \"TA\", \"T~\n",
      "$ Foundation    \u001b[3m\u001b[90m<chr>\u001b[39m\u001b[23m \"PConc\", \"CBlock\", \"PConc\", \"BrkTil\", \"PConc\", \"Wood\", \"~\n",
      "$ BsmtQual      \u001b[3m\u001b[90m<chr>\u001b[39m\u001b[23m \"Gd\", \"Gd\", \"Gd\", \"TA\", \"Gd\", \"Gd\", \"Ex\", \"Gd\", \"TA\", \"T~\n",
      "$ BsmtCond      \u001b[3m\u001b[90m<chr>\u001b[39m\u001b[23m \"TA\", \"TA\", \"TA\", \"Gd\", \"TA\", \"TA\", \"TA\", \"TA\", \"TA\", \"T~\n",
      "$ BsmtExposure  \u001b[3m\u001b[90m<chr>\u001b[39m\u001b[23m \"No\", \"Gd\", \"Mn\", \"No\", \"Av\", \"No\", \"Av\", \"Mn\", \"No\", \"N~\n",
      "$ BsmtFinType1  \u001b[3m\u001b[90m<chr>\u001b[39m\u001b[23m \"GLQ\", \"ALQ\", \"GLQ\", \"ALQ\", \"GLQ\", \"GLQ\", \"GLQ\", \"ALQ\", ~\n",
      "$ BsmtFinSF1    \u001b[3m\u001b[90m<dbl>\u001b[39m\u001b[23m 706, 978, 486, 216, 655, 732, 1369, 859, 0, 851, 906, 99~\n",
      "$ BsmtFinType2  \u001b[3m\u001b[90m<chr>\u001b[39m\u001b[23m \"Unf\", \"Unf\", \"Unf\", \"Unf\", \"Unf\", \"Unf\", \"Unf\", \"BLQ\", ~\n",
      "$ BsmtFinSF2    \u001b[3m\u001b[90m<dbl>\u001b[39m\u001b[23m 0, 0, 0, 0, 0, 0, 0, 32, 0, 0, 0, 0, 0, 0, 0, 0, 0, 0, 0~\n",
      "$ BsmtUnfSF     \u001b[3m\u001b[90m<dbl>\u001b[39m\u001b[23m 150, 284, 434, 540, 490, 64, 317, 216, 952, 140, 134, 17~\n",
      "$ TotalBsmtSF   \u001b[3m\u001b[90m<dbl>\u001b[39m\u001b[23m 856, 1262, 920, 756, 1145, 796, 1686, 1107, 952, 991, 10~\n",
      "$ Heating       \u001b[3m\u001b[90m<chr>\u001b[39m\u001b[23m \"GasA\", \"GasA\", \"GasA\", \"GasA\", \"GasA\", \"GasA\", \"GasA\", ~\n",
      "$ HeatingQC     \u001b[3m\u001b[90m<chr>\u001b[39m\u001b[23m \"Ex\", \"Ex\", \"Ex\", \"Gd\", \"Ex\", \"Ex\", \"Ex\", \"Ex\", \"Gd\", \"E~\n",
      "$ CentralAir    \u001b[3m\u001b[90m<chr>\u001b[39m\u001b[23m \"Y\", \"Y\", \"Y\", \"Y\", \"Y\", \"Y\", \"Y\", \"Y\", \"Y\", \"Y\", \"Y\", \"~\n",
      "$ Electrical    \u001b[3m\u001b[90m<chr>\u001b[39m\u001b[23m \"SBrkr\", \"SBrkr\", \"SBrkr\", \"SBrkr\", \"SBrkr\", \"SBrkr\", \"S~\n",
      "$ `1stFlrSF`    \u001b[3m\u001b[90m<dbl>\u001b[39m\u001b[23m 856, 1262, 920, 961, 1145, 796, 1694, 1107, 1022, 1077, ~\n",
      "$ `2ndFlrSF`    \u001b[3m\u001b[90m<dbl>\u001b[39m\u001b[23m 854, 0, 866, 756, 1053, 566, 0, 983, 752, 0, 0, 1142, 0,~\n",
      "$ LowQualFinSF  \u001b[3m\u001b[90m<dbl>\u001b[39m\u001b[23m 0, 0, 0, 0, 0, 0, 0, 0, 0, 0, 0, 0, 0, 0, 0, 0, 0, 0, 0,~\n",
      "$ GrLivArea     \u001b[3m\u001b[90m<dbl>\u001b[39m\u001b[23m 1710, 1262, 1786, 1717, 2198, 1362, 1694, 2090, 1774, 10~\n",
      "$ BsmtFullBath  \u001b[3m\u001b[90m<dbl>\u001b[39m\u001b[23m 1, 0, 1, 1, 1, 1, 1, 1, 0, 1, 1, 1, 1, 0, 1, 0, 1, 0, 1,~\n",
      "$ BsmtHalfBath  \u001b[3m\u001b[90m<dbl>\u001b[39m\u001b[23m 0, 1, 0, 0, 0, 0, 0, 0, 0, 0, 0, 0, 0, 0, 0, 0, 0, 0, 0,~\n",
      "$ FullBath      \u001b[3m\u001b[90m<dbl>\u001b[39m\u001b[23m 2, 2, 2, 1, 2, 1, 2, 2, 2, 1, 1, 3, 1, 2, 1, 1, 1, 2, 1,~\n",
      "$ HalfBath      \u001b[3m\u001b[90m<dbl>\u001b[39m\u001b[23m 1, 0, 1, 0, 1, 1, 0, 1, 0, 0, 0, 0, 0, 0, 1, 0, 0, 0, 1,~\n",
      "$ BedroomAbvGr  \u001b[3m\u001b[90m<dbl>\u001b[39m\u001b[23m 3, 3, 3, 3, 4, 1, 3, 3, 2, 2, 3, 4, 2, 3, 2, 2, 2, 2, 3,~\n",
      "$ KitchenAbvGr  \u001b[3m\u001b[90m<dbl>\u001b[39m\u001b[23m 1, 1, 1, 1, 1, 1, 1, 1, 2, 2, 1, 1, 1, 1, 1, 1, 1, 2, 1,~\n",
      "$ KitchenQual   \u001b[3m\u001b[90m<chr>\u001b[39m\u001b[23m \"Gd\", \"TA\", \"Gd\", \"Gd\", \"Gd\", \"TA\", \"Gd\", \"TA\", \"TA\", \"T~\n",
      "$ TotRmsAbvGrd  \u001b[3m\u001b[90m<dbl>\u001b[39m\u001b[23m 8, 6, 6, 7, 9, 5, 7, 7, 8, 5, 5, 11, 4, 7, 5, 5, 5, 6, 6~\n",
      "$ Functional    \u001b[3m\u001b[90m<chr>\u001b[39m\u001b[23m \"Typ\", \"Typ\", \"Typ\", \"Typ\", \"Typ\", \"Typ\", \"Typ\", \"Typ\", ~\n",
      "$ Fireplaces    \u001b[3m\u001b[90m<dbl>\u001b[39m\u001b[23m 0, 1, 1, 1, 1, 0, 1, 2, 2, 2, 0, 2, 0, 1, 1, 0, 1, 0, 0,~\n",
      "$ FireplaceQu   \u001b[3m\u001b[90m<chr>\u001b[39m\u001b[23m NA, \"TA\", \"TA\", \"Gd\", \"TA\", NA, \"Gd\", \"TA\", \"TA\", \"TA\", ~\n",
      "$ GarageType    \u001b[3m\u001b[90m<chr>\u001b[39m\u001b[23m \"Attchd\", \"Attchd\", \"Attchd\", \"Detchd\", \"Attchd\", \"Attch~\n",
      "$ GarageYrBlt   \u001b[3m\u001b[90m<dbl>\u001b[39m\u001b[23m 2003, 1976, 2001, 1998, 2000, 1993, 2004, 1973, 1931, 19~\n",
      "$ GarageFinish  \u001b[3m\u001b[90m<chr>\u001b[39m\u001b[23m \"RFn\", \"RFn\", \"RFn\", \"Unf\", \"RFn\", \"Unf\", \"RFn\", \"RFn\", ~\n",
      "$ GarageCars    \u001b[3m\u001b[90m<dbl>\u001b[39m\u001b[23m 2, 2, 2, 3, 3, 2, 2, 2, 2, 1, 1, 3, 1, 3, 1, 2, 2, 2, 2,~\n",
      "$ GarageArea    \u001b[3m\u001b[90m<dbl>\u001b[39m\u001b[23m 548, 460, 608, 642, 836, 480, 636, 484, 468, 205, 384, 7~\n",
      "$ GarageQual    \u001b[3m\u001b[90m<chr>\u001b[39m\u001b[23m \"TA\", \"TA\", \"TA\", \"TA\", \"TA\", \"TA\", \"TA\", \"TA\", \"Fa\", \"G~\n",
      "$ GarageCond    \u001b[3m\u001b[90m<chr>\u001b[39m\u001b[23m \"TA\", \"TA\", \"TA\", \"TA\", \"TA\", \"TA\", \"TA\", \"TA\", \"TA\", \"T~\n",
      "$ PavedDrive    \u001b[3m\u001b[90m<chr>\u001b[39m\u001b[23m \"Y\", \"Y\", \"Y\", \"Y\", \"Y\", \"Y\", \"Y\", \"Y\", \"Y\", \"Y\", \"Y\", \"~\n",
      "$ WoodDeckSF    \u001b[3m\u001b[90m<dbl>\u001b[39m\u001b[23m 0, 298, 0, 0, 192, 40, 255, 235, 90, 0, 0, 147, 140, 160~\n",
      "$ OpenPorchSF   \u001b[3m\u001b[90m<dbl>\u001b[39m\u001b[23m 61, 0, 42, 35, 84, 30, 57, 204, 0, 4, 0, 21, 0, 33, 213,~\n",
      "$ EnclosedPorch \u001b[3m\u001b[90m<dbl>\u001b[39m\u001b[23m 0, 0, 0, 272, 0, 0, 0, 228, 205, 0, 0, 0, 0, 0, 176, 0, ~\n",
      "$ `3SsnPorch`   \u001b[3m\u001b[90m<dbl>\u001b[39m\u001b[23m 0, 0, 0, 0, 0, 320, 0, 0, 0, 0, 0, 0, 0, 0, 0, 0, 0, 0, ~\n",
      "$ ScreenPorch   \u001b[3m\u001b[90m<dbl>\u001b[39m\u001b[23m 0, 0, 0, 0, 0, 0, 0, 0, 0, 0, 0, 0, 176, 0, 0, 0, 0, 0, ~\n",
      "$ PoolArea      \u001b[3m\u001b[90m<dbl>\u001b[39m\u001b[23m 0, 0, 0, 0, 0, 0, 0, 0, 0, 0, 0, 0, 0, 0, 0, 0, 0, 0, 0,~\n",
      "$ PoolQC        \u001b[3m\u001b[90m<chr>\u001b[39m\u001b[23m NA, NA, NA, NA, NA, NA, NA, NA, NA, NA, NA, NA, NA, NA, ~\n",
      "$ Fence         \u001b[3m\u001b[90m<chr>\u001b[39m\u001b[23m NA, NA, NA, NA, NA, \"MnPrv\", NA, NA, NA, NA, NA, NA, NA,~\n",
      "$ MiscFeature   \u001b[3m\u001b[90m<chr>\u001b[39m\u001b[23m NA, NA, NA, NA, NA, \"Shed\", NA, \"Shed\", NA, NA, NA, NA, ~\n",
      "$ MiscVal       \u001b[3m\u001b[90m<dbl>\u001b[39m\u001b[23m 0, 0, 0, 0, 0, 700, 0, 350, 0, 0, 0, 0, 0, 0, 0, 0, 700,~\n",
      "$ MoSold        \u001b[3m\u001b[90m<dbl>\u001b[39m\u001b[23m 2, 5, 9, 2, 12, 10, 8, 11, 4, 1, 2, 7, 9, 8, 5, 7, 3, 10~\n",
      "$ YrSold        \u001b[3m\u001b[90m<dbl>\u001b[39m\u001b[23m 2008, 2007, 2008, 2006, 2008, 2009, 2007, 2009, 2008, 20~\n",
      "$ SaleType      \u001b[3m\u001b[90m<chr>\u001b[39m\u001b[23m \"WD\", \"WD\", \"WD\", \"WD\", \"WD\", \"WD\", \"WD\", \"WD\", \"WD\", \"W~\n",
      "$ SaleCondition \u001b[3m\u001b[90m<chr>\u001b[39m\u001b[23m \"Normal\", \"Normal\", \"Normal\", \"Abnorml\", \"Normal\", \"Norm~\n",
      "$ SalePrice     \u001b[3m\u001b[90m<dbl>\u001b[39m\u001b[23m 208500, 181500, 223500, 140000, 250000, 143000, 307000, ~\n"
     ]
    }
   ],
   "source": [
    "head(train)\n",
    "glimpse(train)"
   ]
  },
  {
   "cell_type": "markdown",
   "id": "04bee54b-92c6-48e2-a28e-d3b77a0c1c16",
   "metadata": {},
   "source": [
    "That's quite a few columns with categorical variables and it's clear some have \"NA\" values.\n",
    "\n",
    "Let's see which columns contain NA:"
   ]
  },
  {
   "cell_type": "code",
   "execution_count": 3,
   "id": "36bd22ca-76e8-4940-8e29-56a07bb7b0ec",
   "metadata": {
    "tags": []
   },
   "outputs": [
    {
     "data": {
      "text/html": [
       "<style>\n",
       ".list-inline {list-style: none; margin:0; padding: 0}\n",
       ".list-inline>li {display: inline-block}\n",
       ".list-inline>li:not(:last-child)::after {content: \"\\00b7\"; padding: 0 .5ex}\n",
       "</style>\n",
       "<ol class=list-inline><li>'LotFrontage'</li><li>'Alley'</li><li>'MasVnrType'</li><li>'MasVnrArea'</li><li>'BsmtQual'</li><li>'BsmtCond'</li><li>'BsmtExposure'</li><li>'BsmtFinType1'</li><li>'BsmtFinType2'</li><li>'Electrical'</li><li>'FireplaceQu'</li><li>'GarageType'</li><li>'GarageYrBlt'</li><li>'GarageFinish'</li><li>'GarageQual'</li><li>'GarageCond'</li><li>'PoolQC'</li><li>'Fence'</li><li>'MiscFeature'</li></ol>\n"
      ],
      "text/latex": [
       "\\begin{enumerate*}\n",
       "\\item 'LotFrontage'\n",
       "\\item 'Alley'\n",
       "\\item 'MasVnrType'\n",
       "\\item 'MasVnrArea'\n",
       "\\item 'BsmtQual'\n",
       "\\item 'BsmtCond'\n",
       "\\item 'BsmtExposure'\n",
       "\\item 'BsmtFinType1'\n",
       "\\item 'BsmtFinType2'\n",
       "\\item 'Electrical'\n",
       "\\item 'FireplaceQu'\n",
       "\\item 'GarageType'\n",
       "\\item 'GarageYrBlt'\n",
       "\\item 'GarageFinish'\n",
       "\\item 'GarageQual'\n",
       "\\item 'GarageCond'\n",
       "\\item 'PoolQC'\n",
       "\\item 'Fence'\n",
       "\\item 'MiscFeature'\n",
       "\\end{enumerate*}\n"
      ],
      "text/markdown": [
       "1. 'LotFrontage'\n",
       "2. 'Alley'\n",
       "3. 'MasVnrType'\n",
       "4. 'MasVnrArea'\n",
       "5. 'BsmtQual'\n",
       "6. 'BsmtCond'\n",
       "7. 'BsmtExposure'\n",
       "8. 'BsmtFinType1'\n",
       "9. 'BsmtFinType2'\n",
       "10. 'Electrical'\n",
       "11. 'FireplaceQu'\n",
       "12. 'GarageType'\n",
       "13. 'GarageYrBlt'\n",
       "14. 'GarageFinish'\n",
       "15. 'GarageQual'\n",
       "16. 'GarageCond'\n",
       "17. 'PoolQC'\n",
       "18. 'Fence'\n",
       "19. 'MiscFeature'\n",
       "\n",
       "\n"
      ],
      "text/plain": [
       " [1] \"LotFrontage\"  \"Alley\"        \"MasVnrType\"   \"MasVnrArea\"   \"BsmtQual\"    \n",
       " [6] \"BsmtCond\"     \"BsmtExposure\" \"BsmtFinType1\" \"BsmtFinType2\" \"Electrical\"  \n",
       "[11] \"FireplaceQu\"  \"GarageType\"   \"GarageYrBlt\"  \"GarageFinish\" \"GarageQual\"  \n",
       "[16] \"GarageCond\"   \"PoolQC\"       \"Fence\"        \"MiscFeature\" "
      ]
     },
     "metadata": {},
     "output_type": "display_data"
    }
   ],
   "source": [
    "NA_columns <- names(train)[sapply(train,anyNA)]\n",
    "NA_columns"
   ]
  },
  {
   "cell_type": "markdown",
   "id": "4741cdc8-6bea-44df-8601-a42e69251e7d",
   "metadata": {},
   "source": [
    "19 columns out of 80 data columns.\n",
    "\n",
    "\n",
    "The documentation appears to explain most of these:\n",
    "\n",
    "LotFrontage - a house lacking any street frontage seems odd\n",
    "\n",
    "Alley - no alley present\n",
    "\n",
    "MasVnrType, MasVnrArea - Refer to masonry vaneer, so NA is not surprising in its absence, although the documentation lists \"None\" as an option not \"NA\"; may need to investigate further\n",
    "\n",
    "BsmtQual, BsmtCond, BsmtExposure, BsmtFinType1, BsmtFinType2 - no basement present\n",
    "\n",
    "Electrical - since there are no NA's in the Utilities column, and all options in that column imply at minimum the house has electricity, it seems odd the Electrical column contains NA's\n",
    "\n",
    "FireplaceQu - no fireplace present\n",
    "\n",
    "GarageType, GarageYrBlt, GarageFinish, GarageQual, GarageCond - no garage present\n",
    "\n",
    "PoolQC - no pool present\n",
    "\n",
    "Fence - no fence present\n",
    "\n",
    "MiscFeature - no extra features"
   ]
  },
  {
   "cell_type": "markdown",
   "id": "e6c42484-8b01-4ec0-a60e-e844b47abd70",
   "metadata": {},
   "source": [
    "So LotFrontage and Electrical are worth checking to see why there are NA's present, and MasVnrType/MasVnrArea should also be looked at to see if there is a difference between NA and None."
   ]
  },
  {
   "cell_type": "code",
   "execution_count": 4,
   "id": "a34b26cd-124e-4206-9115-48fd43b75fbb",
   "metadata": {},
   "outputs": [
    {
     "data": {
      "text/html": [
       "<table class=\"dataframe\">\n",
       "<caption>A tibble: 1 × 4</caption>\n",
       "<thead>\n",
       "\t<tr><th scope=col>LotFrontage</th><th scope=col>Electrical</th><th scope=col>MasVnrType</th><th scope=col>MasVnrArea</th></tr>\n",
       "\t<tr><th scope=col>&lt;int&gt;</th><th scope=col>&lt;int&gt;</th><th scope=col>&lt;int&gt;</th><th scope=col>&lt;int&gt;</th></tr>\n",
       "</thead>\n",
       "<tbody>\n",
       "\t<tr><td>259</td><td>1</td><td>8</td><td>8</td></tr>\n",
       "</tbody>\n",
       "</table>\n"
      ],
      "text/latex": [
       "A tibble: 1 × 4\n",
       "\\begin{tabular}{llll}\n",
       " LotFrontage & Electrical & MasVnrType & MasVnrArea\\\\\n",
       " <int> & <int> & <int> & <int>\\\\\n",
       "\\hline\n",
       "\t 259 & 1 & 8 & 8\\\\\n",
       "\\end{tabular}\n"
      ],
      "text/markdown": [
       "\n",
       "A tibble: 1 × 4\n",
       "\n",
       "| LotFrontage &lt;int&gt; | Electrical &lt;int&gt; | MasVnrType &lt;int&gt; | MasVnrArea &lt;int&gt; |\n",
       "|---|---|---|---|\n",
       "| 259 | 1 | 8 | 8 |\n",
       "\n"
      ],
      "text/plain": [
       "  LotFrontage Electrical MasVnrType MasVnrArea\n",
       "1 259         1          8          8         "
      ]
     },
     "metadata": {},
     "output_type": "display_data"
    }
   ],
   "source": [
    "train %>% summarize(across(c('LotFrontage','Electrical','MasVnrType','MasVnrArea'), ~ sum(is.na(.))))"
   ]
  },
  {
   "cell_type": "markdown",
   "id": "f0cef20c-5eb8-41a8-8397-ab322ec5c448",
   "metadata": {},
   "source": [
    "The counts in the Electrical & two masonry columns look fairly low - this is probably just missing / incorrectly entered data. However, that is a lot of houses that have \"NA\" for LotFrontage (259 out of 1460). Let's see if there is anything obvious these could correspond to see if they can be easily replaced with an actual value.\n",
    "\n",
    "How about zoning?"
   ]
  },
  {
   "cell_type": "code",
   "execution_count": 5,
   "id": "a496b681-e560-4d31-9103-e6bede69681b",
   "metadata": {},
   "outputs": [
    {
     "data": {
      "text/html": [
       "<table class=\"dataframe\">\n",
       "<caption>A spec_tbl_df: 4 × 2</caption>\n",
       "<thead>\n",
       "\t<tr><th scope=col>MSZoning</th><th scope=col>n</th></tr>\n",
       "\t<tr><th scope=col>&lt;chr&gt;</th><th scope=col>&lt;int&gt;</th></tr>\n",
       "</thead>\n",
       "<tbody>\n",
       "\t<tr><td>FV</td><td>  8</td></tr>\n",
       "\t<tr><td>RH</td><td>  3</td></tr>\n",
       "\t<tr><td>RL</td><td>229</td></tr>\n",
       "\t<tr><td>RM</td><td> 19</td></tr>\n",
       "</tbody>\n",
       "</table>\n"
      ],
      "text/latex": [
       "A spec\\_tbl\\_df: 4 × 2\n",
       "\\begin{tabular}{ll}\n",
       " MSZoning & n\\\\\n",
       " <chr> & <int>\\\\\n",
       "\\hline\n",
       "\t FV &   8\\\\\n",
       "\t RH &   3\\\\\n",
       "\t RL & 229\\\\\n",
       "\t RM &  19\\\\\n",
       "\\end{tabular}\n"
      ],
      "text/markdown": [
       "\n",
       "A spec_tbl_df: 4 × 2\n",
       "\n",
       "| MSZoning &lt;chr&gt; | n &lt;int&gt; |\n",
       "|---|---|\n",
       "| FV |   8 |\n",
       "| RH |   3 |\n",
       "| RL | 229 |\n",
       "| RM |  19 |\n",
       "\n"
      ],
      "text/plain": [
       "  MSZoning n  \n",
       "1 FV         8\n",
       "2 RH         3\n",
       "3 RL       229\n",
       "4 RM        19"
      ]
     },
     "metadata": {},
     "output_type": "display_data"
    }
   ],
   "source": [
    "train %>% filter(is.na(LotFrontage)) %>% count(MSZoning)"
   ]
  },
  {
   "cell_type": "markdown",
   "id": "c36e2c27-8072-4d50-9add-e114cbd0d955",
   "metadata": {},
   "source": [
    "RL is residential low density. Low density house should intuitively have more frontage than high density, so these NA's probably don't correspond to 0.\n",
    "This distribution also roughly reflects the overall zoning distribution:"
   ]
  },
  {
   "cell_type": "code",
   "execution_count": 6,
   "id": "3b90a2a0-c5a0-4a80-a092-8877a3e4a919",
   "metadata": {},
   "outputs": [
    {
     "data": {
      "text/html": [
       "<table class=\"dataframe\">\n",
       "<caption>A spec_tbl_df: 5 × 2</caption>\n",
       "<thead>\n",
       "\t<tr><th scope=col>MSZoning</th><th scope=col>n</th></tr>\n",
       "\t<tr><th scope=col>&lt;chr&gt;</th><th scope=col>&lt;int&gt;</th></tr>\n",
       "</thead>\n",
       "<tbody>\n",
       "\t<tr><td>C (all)</td><td>  10</td></tr>\n",
       "\t<tr><td>FV     </td><td>  65</td></tr>\n",
       "\t<tr><td>RH     </td><td>  16</td></tr>\n",
       "\t<tr><td>RL     </td><td>1151</td></tr>\n",
       "\t<tr><td>RM     </td><td> 218</td></tr>\n",
       "</tbody>\n",
       "</table>\n"
      ],
      "text/latex": [
       "A spec\\_tbl\\_df: 5 × 2\n",
       "\\begin{tabular}{ll}\n",
       " MSZoning & n\\\\\n",
       " <chr> & <int>\\\\\n",
       "\\hline\n",
       "\t C (all) &   10\\\\\n",
       "\t FV      &   65\\\\\n",
       "\t RH      &   16\\\\\n",
       "\t RL      & 1151\\\\\n",
       "\t RM      &  218\\\\\n",
       "\\end{tabular}\n"
      ],
      "text/markdown": [
       "\n",
       "A spec_tbl_df: 5 × 2\n",
       "\n",
       "| MSZoning &lt;chr&gt; | n &lt;int&gt; |\n",
       "|---|---|\n",
       "| C (all) |   10 |\n",
       "| FV      |   65 |\n",
       "| RH      |   16 |\n",
       "| RL      | 1151 |\n",
       "| RM      |  218 |\n",
       "\n"
      ],
      "text/plain": [
       "  MSZoning n   \n",
       "1 C (all)    10\n",
       "2 FV         65\n",
       "3 RH         16\n",
       "4 RL       1151\n",
       "5 RM        218"
      ]
     },
     "metadata": {},
     "output_type": "display_data"
    }
   ],
   "source": [
    "train %>% count(MSZoning)"
   ]
  },
  {
   "cell_type": "markdown",
   "id": "4a6626db-9401-4a21-a887-e42857793ce6",
   "metadata": {},
   "source": [
    "What about lot shape?"
   ]
  },
  {
   "cell_type": "code",
   "execution_count": 7,
   "id": "8aacb2a9-e7ef-4554-abc9-c0fa1d668910",
   "metadata": {},
   "outputs": [
    {
     "name": "stdout",
     "output_type": "stream",
     "text": [
      "LotFrontage NA summary"
     ]
    },
    {
     "data": {
      "text/html": [
       "<table class=\"dataframe\">\n",
       "<caption>A spec_tbl_df: 4 × 2</caption>\n",
       "<thead>\n",
       "\t<tr><th scope=col>LotShape</th><th scope=col>n</th></tr>\n",
       "\t<tr><th scope=col>&lt;chr&gt;</th><th scope=col>&lt;int&gt;</th></tr>\n",
       "</thead>\n",
       "<tbody>\n",
       "\t<tr><td>IR1</td><td>167</td></tr>\n",
       "\t<tr><td>IR2</td><td> 15</td></tr>\n",
       "\t<tr><td>IR3</td><td>  3</td></tr>\n",
       "\t<tr><td>Reg</td><td> 74</td></tr>\n",
       "</tbody>\n",
       "</table>\n"
      ],
      "text/latex": [
       "A spec\\_tbl\\_df: 4 × 2\n",
       "\\begin{tabular}{ll}\n",
       " LotShape & n\\\\\n",
       " <chr> & <int>\\\\\n",
       "\\hline\n",
       "\t IR1 & 167\\\\\n",
       "\t IR2 &  15\\\\\n",
       "\t IR3 &   3\\\\\n",
       "\t Reg &  74\\\\\n",
       "\\end{tabular}\n"
      ],
      "text/markdown": [
       "\n",
       "A spec_tbl_df: 4 × 2\n",
       "\n",
       "| LotShape &lt;chr&gt; | n &lt;int&gt; |\n",
       "|---|---|\n",
       "| IR1 | 167 |\n",
       "| IR2 |  15 |\n",
       "| IR3 |   3 |\n",
       "| Reg |  74 |\n",
       "\n"
      ],
      "text/plain": [
       "  LotShape n  \n",
       "1 IR1      167\n",
       "2 IR2       15\n",
       "3 IR3        3\n",
       "4 Reg       74"
      ]
     },
     "metadata": {},
     "output_type": "display_data"
    },
    {
     "name": "stdout",
     "output_type": "stream",
     "text": [
      "\n",
      " Overall summary"
     ]
    },
    {
     "data": {
      "text/html": [
       "<table class=\"dataframe\">\n",
       "<caption>A spec_tbl_df: 4 × 2</caption>\n",
       "<thead>\n",
       "\t<tr><th scope=col>LotShape</th><th scope=col>n</th></tr>\n",
       "\t<tr><th scope=col>&lt;chr&gt;</th><th scope=col>&lt;int&gt;</th></tr>\n",
       "</thead>\n",
       "<tbody>\n",
       "\t<tr><td>IR1</td><td>484</td></tr>\n",
       "\t<tr><td>IR2</td><td> 41</td></tr>\n",
       "\t<tr><td>IR3</td><td> 10</td></tr>\n",
       "\t<tr><td>Reg</td><td>925</td></tr>\n",
       "</tbody>\n",
       "</table>\n"
      ],
      "text/latex": [
       "A spec\\_tbl\\_df: 4 × 2\n",
       "\\begin{tabular}{ll}\n",
       " LotShape & n\\\\\n",
       " <chr> & <int>\\\\\n",
       "\\hline\n",
       "\t IR1 & 484\\\\\n",
       "\t IR2 &  41\\\\\n",
       "\t IR3 &  10\\\\\n",
       "\t Reg & 925\\\\\n",
       "\\end{tabular}\n"
      ],
      "text/markdown": [
       "\n",
       "A spec_tbl_df: 4 × 2\n",
       "\n",
       "| LotShape &lt;chr&gt; | n &lt;int&gt; |\n",
       "|---|---|\n",
       "| IR1 | 484 |\n",
       "| IR2 |  41 |\n",
       "| IR3 |  10 |\n",
       "| Reg | 925 |\n",
       "\n"
      ],
      "text/plain": [
       "  LotShape n  \n",
       "1 IR1      484\n",
       "2 IR2       41\n",
       "3 IR3       10\n",
       "4 Reg      925"
      ]
     },
     "metadata": {},
     "output_type": "display_data"
    }
   ],
   "source": [
    "cat('LotFrontage NA summary')\n",
    "train %>% filter(is.na(LotFrontage)) %>% count(LotShape)\n",
    "cat('\\n','Overall summary')\n",
    "train %>% count(LotShape)"
   ]
  },
  {
   "cell_type": "markdown",
   "id": "d86d4c51-47c8-412f-92f3-010fd9db76a5",
   "metadata": {},
   "source": [
    "Pretty even mix there (a bit more IR1 irregular lots have NA than regular lots if comparing to the overall summary, but still not conclusive). Maybe lot configuration is relevant."
   ]
  },
  {
   "cell_type": "code",
   "execution_count": 8,
   "id": "7d02dad6-6077-48e3-8b82-140873f5fe7d",
   "metadata": {},
   "outputs": [
    {
     "name": "stdout",
     "output_type": "stream",
     "text": [
      "LotFrontage NA summary"
     ]
    },
    {
     "data": {
      "text/html": [
       "<table class=\"dataframe\">\n",
       "<caption>A spec_tbl_df: 4 × 2</caption>\n",
       "<thead>\n",
       "\t<tr><th scope=col>LotConfig</th><th scope=col>n</th></tr>\n",
       "\t<tr><th scope=col>&lt;chr&gt;</th><th scope=col>&lt;int&gt;</th></tr>\n",
       "</thead>\n",
       "<tbody>\n",
       "\t<tr><td>Corner </td><td> 62</td></tr>\n",
       "\t<tr><td>CulDSac</td><td> 49</td></tr>\n",
       "\t<tr><td>FR2    </td><td> 14</td></tr>\n",
       "\t<tr><td>Inside </td><td>134</td></tr>\n",
       "</tbody>\n",
       "</table>\n"
      ],
      "text/latex": [
       "A spec\\_tbl\\_df: 4 × 2\n",
       "\\begin{tabular}{ll}\n",
       " LotConfig & n\\\\\n",
       " <chr> & <int>\\\\\n",
       "\\hline\n",
       "\t Corner  &  62\\\\\n",
       "\t CulDSac &  49\\\\\n",
       "\t FR2     &  14\\\\\n",
       "\t Inside  & 134\\\\\n",
       "\\end{tabular}\n"
      ],
      "text/markdown": [
       "\n",
       "A spec_tbl_df: 4 × 2\n",
       "\n",
       "| LotConfig &lt;chr&gt; | n &lt;int&gt; |\n",
       "|---|---|\n",
       "| Corner  |  62 |\n",
       "| CulDSac |  49 |\n",
       "| FR2     |  14 |\n",
       "| Inside  | 134 |\n",
       "\n"
      ],
      "text/plain": [
       "  LotConfig n  \n",
       "1 Corner     62\n",
       "2 CulDSac    49\n",
       "3 FR2        14\n",
       "4 Inside    134"
      ]
     },
     "metadata": {},
     "output_type": "display_data"
    },
    {
     "name": "stdout",
     "output_type": "stream",
     "text": [
      "\n",
      " Overall summary"
     ]
    },
    {
     "data": {
      "text/html": [
       "<table class=\"dataframe\">\n",
       "<caption>A spec_tbl_df: 5 × 2</caption>\n",
       "<thead>\n",
       "\t<tr><th scope=col>LotConfig</th><th scope=col>n</th></tr>\n",
       "\t<tr><th scope=col>&lt;chr&gt;</th><th scope=col>&lt;int&gt;</th></tr>\n",
       "</thead>\n",
       "<tbody>\n",
       "\t<tr><td>Corner </td><td> 263</td></tr>\n",
       "\t<tr><td>CulDSac</td><td>  94</td></tr>\n",
       "\t<tr><td>FR2    </td><td>  47</td></tr>\n",
       "\t<tr><td>FR3    </td><td>   4</td></tr>\n",
       "\t<tr><td>Inside </td><td>1052</td></tr>\n",
       "</tbody>\n",
       "</table>\n"
      ],
      "text/latex": [
       "A spec\\_tbl\\_df: 5 × 2\n",
       "\\begin{tabular}{ll}\n",
       " LotConfig & n\\\\\n",
       " <chr> & <int>\\\\\n",
       "\\hline\n",
       "\t Corner  &  263\\\\\n",
       "\t CulDSac &   94\\\\\n",
       "\t FR2     &   47\\\\\n",
       "\t FR3     &    4\\\\\n",
       "\t Inside  & 1052\\\\\n",
       "\\end{tabular}\n"
      ],
      "text/markdown": [
       "\n",
       "A spec_tbl_df: 5 × 2\n",
       "\n",
       "| LotConfig &lt;chr&gt; | n &lt;int&gt; |\n",
       "|---|---|\n",
       "| Corner  |  263 |\n",
       "| CulDSac |   94 |\n",
       "| FR2     |   47 |\n",
       "| FR3     |    4 |\n",
       "| Inside  | 1052 |\n",
       "\n"
      ],
      "text/plain": [
       "  LotConfig n   \n",
       "1 Corner     263\n",
       "2 CulDSac     94\n",
       "3 FR2         47\n",
       "4 FR3          4\n",
       "5 Inside    1052"
      ]
     },
     "metadata": {},
     "output_type": "display_data"
    }
   ],
   "source": [
    "cat('LotFrontage NA summary')\n",
    "train %>% filter(is.na(LotFrontage)) %>% count(LotConfig)\n",
    "cat('\\n','Overall summary')\n",
    "train %>% count(LotConfig)"
   ]
  },
  {
   "cell_type": "markdown",
   "id": "3fdacefe-543a-403d-a6c2-5662b0f8d4ec",
   "metadata": {},
   "source": [
    "More Inside lots than not, but not definitive.\n",
    "\n",
    "What about neighborhood? Maybe house location impacted the data."
   ]
  },
  {
   "cell_type": "code",
   "execution_count": 9,
   "id": "92deb500-fd86-44d7-9e77-533953714e6f",
   "metadata": {},
   "outputs": [
    {
     "name": "stdout",
     "output_type": "stream",
     "text": [
      "LotFrontage NA summary"
     ]
    },
    {
     "data": {
      "text/html": [
       "<table class=\"dataframe\">\n",
       "<caption>A spec_tbl_df: 23 × 2</caption>\n",
       "<thead>\n",
       "\t<tr><th scope=col>Neighborhood</th><th scope=col>n</th></tr>\n",
       "\t<tr><th scope=col>&lt;chr&gt;</th><th scope=col>&lt;int&gt;</th></tr>\n",
       "</thead>\n",
       "<tbody>\n",
       "\t<tr><td>Blmngtn</td><td> 3</td></tr>\n",
       "\t<tr><td>BrkSide</td><td> 7</td></tr>\n",
       "\t<tr><td>ClearCr</td><td>15</td></tr>\n",
       "\t<tr><td>CollgCr</td><td>24</td></tr>\n",
       "\t<tr><td>Crawfor</td><td>10</td></tr>\n",
       "\t<tr><td>Edwards</td><td> 8</td></tr>\n",
       "\t<tr><td>Gilbert</td><td>30</td></tr>\n",
       "\t<tr><td>IDOTRR </td><td> 3</td></tr>\n",
       "\t<tr><td>MeadowV</td><td> 2</td></tr>\n",
       "\t<tr><td>Mitchel</td><td>13</td></tr>\n",
       "\t<tr><td>NAmes  </td><td>39</td></tr>\n",
       "\t<tr><td>NoRidge</td><td> 8</td></tr>\n",
       "\t<tr><td>NPkVill</td><td> 2</td></tr>\n",
       "\t<tr><td>NridgHt</td><td> 1</td></tr>\n",
       "\t<tr><td>NWAmes </td><td>28</td></tr>\n",
       "\t<tr><td>OldTown</td><td> 4</td></tr>\n",
       "\t<tr><td>Sawyer </td><td>26</td></tr>\n",
       "\t<tr><td>SawyerW</td><td> 9</td></tr>\n",
       "\t<tr><td>Somerst</td><td> 8</td></tr>\n",
       "\t<tr><td>StoneBr</td><td> 5</td></tr>\n",
       "\t<tr><td>SWISU  </td><td> 2</td></tr>\n",
       "\t<tr><td>Timber </td><td> 8</td></tr>\n",
       "\t<tr><td>Veenker</td><td> 4</td></tr>\n",
       "</tbody>\n",
       "</table>\n"
      ],
      "text/latex": [
       "A spec\\_tbl\\_df: 23 × 2\n",
       "\\begin{tabular}{ll}\n",
       " Neighborhood & n\\\\\n",
       " <chr> & <int>\\\\\n",
       "\\hline\n",
       "\t Blmngtn &  3\\\\\n",
       "\t BrkSide &  7\\\\\n",
       "\t ClearCr & 15\\\\\n",
       "\t CollgCr & 24\\\\\n",
       "\t Crawfor & 10\\\\\n",
       "\t Edwards &  8\\\\\n",
       "\t Gilbert & 30\\\\\n",
       "\t IDOTRR  &  3\\\\\n",
       "\t MeadowV &  2\\\\\n",
       "\t Mitchel & 13\\\\\n",
       "\t NAmes   & 39\\\\\n",
       "\t NoRidge &  8\\\\\n",
       "\t NPkVill &  2\\\\\n",
       "\t NridgHt &  1\\\\\n",
       "\t NWAmes  & 28\\\\\n",
       "\t OldTown &  4\\\\\n",
       "\t Sawyer  & 26\\\\\n",
       "\t SawyerW &  9\\\\\n",
       "\t Somerst &  8\\\\\n",
       "\t StoneBr &  5\\\\\n",
       "\t SWISU   &  2\\\\\n",
       "\t Timber  &  8\\\\\n",
       "\t Veenker &  4\\\\\n",
       "\\end{tabular}\n"
      ],
      "text/markdown": [
       "\n",
       "A spec_tbl_df: 23 × 2\n",
       "\n",
       "| Neighborhood &lt;chr&gt; | n &lt;int&gt; |\n",
       "|---|---|\n",
       "| Blmngtn |  3 |\n",
       "| BrkSide |  7 |\n",
       "| ClearCr | 15 |\n",
       "| CollgCr | 24 |\n",
       "| Crawfor | 10 |\n",
       "| Edwards |  8 |\n",
       "| Gilbert | 30 |\n",
       "| IDOTRR  |  3 |\n",
       "| MeadowV |  2 |\n",
       "| Mitchel | 13 |\n",
       "| NAmes   | 39 |\n",
       "| NoRidge |  8 |\n",
       "| NPkVill |  2 |\n",
       "| NridgHt |  1 |\n",
       "| NWAmes  | 28 |\n",
       "| OldTown |  4 |\n",
       "| Sawyer  | 26 |\n",
       "| SawyerW |  9 |\n",
       "| Somerst |  8 |\n",
       "| StoneBr |  5 |\n",
       "| SWISU   |  2 |\n",
       "| Timber  |  8 |\n",
       "| Veenker |  4 |\n",
       "\n"
      ],
      "text/plain": [
       "   Neighborhood n \n",
       "1  Blmngtn       3\n",
       "2  BrkSide       7\n",
       "3  ClearCr      15\n",
       "4  CollgCr      24\n",
       "5  Crawfor      10\n",
       "6  Edwards       8\n",
       "7  Gilbert      30\n",
       "8  IDOTRR        3\n",
       "9  MeadowV       2\n",
       "10 Mitchel      13\n",
       "11 NAmes        39\n",
       "12 NoRidge       8\n",
       "13 NPkVill       2\n",
       "14 NridgHt       1\n",
       "15 NWAmes       28\n",
       "16 OldTown       4\n",
       "17 Sawyer       26\n",
       "18 SawyerW       9\n",
       "19 Somerst       8\n",
       "20 StoneBr       5\n",
       "21 SWISU         2\n",
       "22 Timber        8\n",
       "23 Veenker       4"
      ]
     },
     "metadata": {},
     "output_type": "display_data"
    },
    {
     "name": "stdout",
     "output_type": "stream",
     "text": [
      "\n",
      " Overall summary"
     ]
    },
    {
     "data": {
      "text/html": [
       "<table class=\"dataframe\">\n",
       "<caption>A spec_tbl_df: 25 × 2</caption>\n",
       "<thead>\n",
       "\t<tr><th scope=col>Neighborhood</th><th scope=col>n</th></tr>\n",
       "\t<tr><th scope=col>&lt;chr&gt;</th><th scope=col>&lt;int&gt;</th></tr>\n",
       "</thead>\n",
       "<tbody>\n",
       "\t<tr><td>Blmngtn</td><td> 17</td></tr>\n",
       "\t<tr><td>Blueste</td><td>  2</td></tr>\n",
       "\t<tr><td>BrDale </td><td> 16</td></tr>\n",
       "\t<tr><td>BrkSide</td><td> 58</td></tr>\n",
       "\t<tr><td>ClearCr</td><td> 28</td></tr>\n",
       "\t<tr><td>CollgCr</td><td>150</td></tr>\n",
       "\t<tr><td>Crawfor</td><td> 51</td></tr>\n",
       "\t<tr><td>Edwards</td><td>100</td></tr>\n",
       "\t<tr><td>Gilbert</td><td> 79</td></tr>\n",
       "\t<tr><td>IDOTRR </td><td> 37</td></tr>\n",
       "\t<tr><td>MeadowV</td><td> 17</td></tr>\n",
       "\t<tr><td>Mitchel</td><td> 49</td></tr>\n",
       "\t<tr><td>NAmes  </td><td>225</td></tr>\n",
       "\t<tr><td>NoRidge</td><td> 41</td></tr>\n",
       "\t<tr><td>NPkVill</td><td>  9</td></tr>\n",
       "\t<tr><td>NridgHt</td><td> 77</td></tr>\n",
       "\t<tr><td>NWAmes </td><td> 73</td></tr>\n",
       "\t<tr><td>OldTown</td><td>113</td></tr>\n",
       "\t<tr><td>Sawyer </td><td> 74</td></tr>\n",
       "\t<tr><td>SawyerW</td><td> 59</td></tr>\n",
       "\t<tr><td>Somerst</td><td> 86</td></tr>\n",
       "\t<tr><td>StoneBr</td><td> 25</td></tr>\n",
       "\t<tr><td>SWISU  </td><td> 25</td></tr>\n",
       "\t<tr><td>Timber </td><td> 38</td></tr>\n",
       "\t<tr><td>Veenker</td><td> 11</td></tr>\n",
       "</tbody>\n",
       "</table>\n"
      ],
      "text/latex": [
       "A spec\\_tbl\\_df: 25 × 2\n",
       "\\begin{tabular}{ll}\n",
       " Neighborhood & n\\\\\n",
       " <chr> & <int>\\\\\n",
       "\\hline\n",
       "\t Blmngtn &  17\\\\\n",
       "\t Blueste &   2\\\\\n",
       "\t BrDale  &  16\\\\\n",
       "\t BrkSide &  58\\\\\n",
       "\t ClearCr &  28\\\\\n",
       "\t CollgCr & 150\\\\\n",
       "\t Crawfor &  51\\\\\n",
       "\t Edwards & 100\\\\\n",
       "\t Gilbert &  79\\\\\n",
       "\t IDOTRR  &  37\\\\\n",
       "\t MeadowV &  17\\\\\n",
       "\t Mitchel &  49\\\\\n",
       "\t NAmes   & 225\\\\\n",
       "\t NoRidge &  41\\\\\n",
       "\t NPkVill &   9\\\\\n",
       "\t NridgHt &  77\\\\\n",
       "\t NWAmes  &  73\\\\\n",
       "\t OldTown & 113\\\\\n",
       "\t Sawyer  &  74\\\\\n",
       "\t SawyerW &  59\\\\\n",
       "\t Somerst &  86\\\\\n",
       "\t StoneBr &  25\\\\\n",
       "\t SWISU   &  25\\\\\n",
       "\t Timber  &  38\\\\\n",
       "\t Veenker &  11\\\\\n",
       "\\end{tabular}\n"
      ],
      "text/markdown": [
       "\n",
       "A spec_tbl_df: 25 × 2\n",
       "\n",
       "| Neighborhood &lt;chr&gt; | n &lt;int&gt; |\n",
       "|---|---|\n",
       "| Blmngtn |  17 |\n",
       "| Blueste |   2 |\n",
       "| BrDale  |  16 |\n",
       "| BrkSide |  58 |\n",
       "| ClearCr |  28 |\n",
       "| CollgCr | 150 |\n",
       "| Crawfor |  51 |\n",
       "| Edwards | 100 |\n",
       "| Gilbert |  79 |\n",
       "| IDOTRR  |  37 |\n",
       "| MeadowV |  17 |\n",
       "| Mitchel |  49 |\n",
       "| NAmes   | 225 |\n",
       "| NoRidge |  41 |\n",
       "| NPkVill |   9 |\n",
       "| NridgHt |  77 |\n",
       "| NWAmes  |  73 |\n",
       "| OldTown | 113 |\n",
       "| Sawyer  |  74 |\n",
       "| SawyerW |  59 |\n",
       "| Somerst |  86 |\n",
       "| StoneBr |  25 |\n",
       "| SWISU   |  25 |\n",
       "| Timber  |  38 |\n",
       "| Veenker |  11 |\n",
       "\n"
      ],
      "text/plain": [
       "   Neighborhood n  \n",
       "1  Blmngtn       17\n",
       "2  Blueste        2\n",
       "3  BrDale        16\n",
       "4  BrkSide       58\n",
       "5  ClearCr       28\n",
       "6  CollgCr      150\n",
       "7  Crawfor       51\n",
       "8  Edwards      100\n",
       "9  Gilbert       79\n",
       "10 IDOTRR        37\n",
       "11 MeadowV       17\n",
       "12 Mitchel       49\n",
       "13 NAmes        225\n",
       "14 NoRidge       41\n",
       "15 NPkVill        9\n",
       "16 NridgHt       77\n",
       "17 NWAmes        73\n",
       "18 OldTown      113\n",
       "19 Sawyer        74\n",
       "20 SawyerW       59\n",
       "21 Somerst       86\n",
       "22 StoneBr       25\n",
       "23 SWISU         25\n",
       "24 Timber        38\n",
       "25 Veenker       11"
      ]
     },
     "metadata": {},
     "output_type": "display_data"
    }
   ],
   "source": [
    "cat('LotFrontage NA summary')\n",
    "train %>% filter(is.na(LotFrontage)) %>% count(Neighborhood)\n",
    "cat('\\n','Overall summary')\n",
    "train %>% count(Neighborhood)"
   ]
  },
  {
   "cell_type": "markdown",
   "id": "8215bfa1-02f0-4cf1-bad0-a50d614cfe5f",
   "metadata": {},
   "source": [
    "Nothing jumping out here. There is also a column for \"proximity to various features,\" such as railroads. Let's see if this is the cause."
   ]
  },
  {
   "cell_type": "code",
   "execution_count": 10,
   "id": "485c1276-31b1-4f02-a35d-cede9d1dd974",
   "metadata": {},
   "outputs": [
    {
     "name": "stdout",
     "output_type": "stream",
     "text": [
      "LotFrontage NA summary"
     ]
    },
    {
     "data": {
      "text/html": [
       "<table class=\"dataframe\">\n",
       "<caption>A spec_tbl_df: 9 × 2</caption>\n",
       "<thead>\n",
       "\t<tr><th scope=col>Condition1</th><th scope=col>n</th></tr>\n",
       "\t<tr><th scope=col>&lt;chr&gt;</th><th scope=col>&lt;int&gt;</th></tr>\n",
       "</thead>\n",
       "<tbody>\n",
       "\t<tr><td>Artery</td><td>  2</td></tr>\n",
       "\t<tr><td>Feedr </td><td> 14</td></tr>\n",
       "\t<tr><td>Norm  </td><td>223</td></tr>\n",
       "\t<tr><td>PosA  </td><td>  4</td></tr>\n",
       "\t<tr><td>PosN  </td><td> 10</td></tr>\n",
       "\t<tr><td>RRAe  </td><td>  2</td></tr>\n",
       "\t<tr><td>RRAn  </td><td>  2</td></tr>\n",
       "\t<tr><td>RRNe  </td><td>  1</td></tr>\n",
       "\t<tr><td>RRNn  </td><td>  1</td></tr>\n",
       "</tbody>\n",
       "</table>\n"
      ],
      "text/latex": [
       "A spec\\_tbl\\_df: 9 × 2\n",
       "\\begin{tabular}{ll}\n",
       " Condition1 & n\\\\\n",
       " <chr> & <int>\\\\\n",
       "\\hline\n",
       "\t Artery &   2\\\\\n",
       "\t Feedr  &  14\\\\\n",
       "\t Norm   & 223\\\\\n",
       "\t PosA   &   4\\\\\n",
       "\t PosN   &  10\\\\\n",
       "\t RRAe   &   2\\\\\n",
       "\t RRAn   &   2\\\\\n",
       "\t RRNe   &   1\\\\\n",
       "\t RRNn   &   1\\\\\n",
       "\\end{tabular}\n"
      ],
      "text/markdown": [
       "\n",
       "A spec_tbl_df: 9 × 2\n",
       "\n",
       "| Condition1 &lt;chr&gt; | n &lt;int&gt; |\n",
       "|---|---|\n",
       "| Artery |   2 |\n",
       "| Feedr  |  14 |\n",
       "| Norm   | 223 |\n",
       "| PosA   |   4 |\n",
       "| PosN   |  10 |\n",
       "| RRAe   |   2 |\n",
       "| RRAn   |   2 |\n",
       "| RRNe   |   1 |\n",
       "| RRNn   |   1 |\n",
       "\n"
      ],
      "text/plain": [
       "  Condition1 n  \n",
       "1 Artery       2\n",
       "2 Feedr       14\n",
       "3 Norm       223\n",
       "4 PosA         4\n",
       "5 PosN        10\n",
       "6 RRAe         2\n",
       "7 RRAn         2\n",
       "8 RRNe         1\n",
       "9 RRNn         1"
      ]
     },
     "metadata": {},
     "output_type": "display_data"
    },
    {
     "name": "stdout",
     "output_type": "stream",
     "text": [
      "\n",
      " Overall summary"
     ]
    },
    {
     "data": {
      "text/html": [
       "<table class=\"dataframe\">\n",
       "<caption>A spec_tbl_df: 9 × 2</caption>\n",
       "<thead>\n",
       "\t<tr><th scope=col>Condition1</th><th scope=col>n</th></tr>\n",
       "\t<tr><th scope=col>&lt;chr&gt;</th><th scope=col>&lt;int&gt;</th></tr>\n",
       "</thead>\n",
       "<tbody>\n",
       "\t<tr><td>Artery</td><td>  48</td></tr>\n",
       "\t<tr><td>Feedr </td><td>  81</td></tr>\n",
       "\t<tr><td>Norm  </td><td>1260</td></tr>\n",
       "\t<tr><td>PosA  </td><td>   8</td></tr>\n",
       "\t<tr><td>PosN  </td><td>  19</td></tr>\n",
       "\t<tr><td>RRAe  </td><td>  11</td></tr>\n",
       "\t<tr><td>RRAn  </td><td>  26</td></tr>\n",
       "\t<tr><td>RRNe  </td><td>   2</td></tr>\n",
       "\t<tr><td>RRNn  </td><td>   5</td></tr>\n",
       "</tbody>\n",
       "</table>\n"
      ],
      "text/latex": [
       "A spec\\_tbl\\_df: 9 × 2\n",
       "\\begin{tabular}{ll}\n",
       " Condition1 & n\\\\\n",
       " <chr> & <int>\\\\\n",
       "\\hline\n",
       "\t Artery &   48\\\\\n",
       "\t Feedr  &   81\\\\\n",
       "\t Norm   & 1260\\\\\n",
       "\t PosA   &    8\\\\\n",
       "\t PosN   &   19\\\\\n",
       "\t RRAe   &   11\\\\\n",
       "\t RRAn   &   26\\\\\n",
       "\t RRNe   &    2\\\\\n",
       "\t RRNn   &    5\\\\\n",
       "\\end{tabular}\n"
      ],
      "text/markdown": [
       "\n",
       "A spec_tbl_df: 9 × 2\n",
       "\n",
       "| Condition1 &lt;chr&gt; | n &lt;int&gt; |\n",
       "|---|---|\n",
       "| Artery |   48 |\n",
       "| Feedr  |   81 |\n",
       "| Norm   | 1260 |\n",
       "| PosA   |    8 |\n",
       "| PosN   |   19 |\n",
       "| RRAe   |   11 |\n",
       "| RRAn   |   26 |\n",
       "| RRNe   |    2 |\n",
       "| RRNn   |    5 |\n",
       "\n"
      ],
      "text/plain": [
       "  Condition1 n   \n",
       "1 Artery       48\n",
       "2 Feedr        81\n",
       "3 Norm       1260\n",
       "4 PosA          8\n",
       "5 PosN         19\n",
       "6 RRAe         11\n",
       "7 RRAn         26\n",
       "8 RRNe          2\n",
       "9 RRNn          5"
      ]
     },
     "metadata": {},
     "output_type": "display_data"
    }
   ],
   "source": [
    "cat('LotFrontage NA summary')\n",
    "train %>% filter(is.na(LotFrontage)) %>% count(Condition1)\n",
    "cat('\\n','Overall summary')\n",
    "train %>% count(Condition1)"
   ]
  },
  {
   "cell_type": "markdown",
   "id": "207cbb80-f924-4ab9-a9a1-4c62310110a0",
   "metadata": {},
   "source": [
    "Normal is the biggest category with lot frontage = NA. Building type is also a possibility (since townhouses as an option)"
   ]
  },
  {
   "cell_type": "code",
   "execution_count": 11,
   "id": "5d916b0a-0b4f-4466-b52d-734ae21290c5",
   "metadata": {},
   "outputs": [
    {
     "name": "stdout",
     "output_type": "stream",
     "text": [
      "LotFrontage NA summary"
     ]
    },
    {
     "data": {
      "text/html": [
       "<table class=\"dataframe\">\n",
       "<caption>A spec_tbl_df: 5 × 2</caption>\n",
       "<thead>\n",
       "\t<tr><th scope=col>BldgType</th><th scope=col>n</th></tr>\n",
       "\t<tr><th scope=col>&lt;chr&gt;</th><th scope=col>&lt;int&gt;</th></tr>\n",
       "</thead>\n",
       "<tbody>\n",
       "\t<tr><td>1Fam  </td><td>226</td></tr>\n",
       "\t<tr><td>2fmCon</td><td>  3</td></tr>\n",
       "\t<tr><td>Duplex</td><td>  5</td></tr>\n",
       "\t<tr><td>Twnhs </td><td>  3</td></tr>\n",
       "\t<tr><td>TwnhsE</td><td> 22</td></tr>\n",
       "</tbody>\n",
       "</table>\n"
      ],
      "text/latex": [
       "A spec\\_tbl\\_df: 5 × 2\n",
       "\\begin{tabular}{ll}\n",
       " BldgType & n\\\\\n",
       " <chr> & <int>\\\\\n",
       "\\hline\n",
       "\t 1Fam   & 226\\\\\n",
       "\t 2fmCon &   3\\\\\n",
       "\t Duplex &   5\\\\\n",
       "\t Twnhs  &   3\\\\\n",
       "\t TwnhsE &  22\\\\\n",
       "\\end{tabular}\n"
      ],
      "text/markdown": [
       "\n",
       "A spec_tbl_df: 5 × 2\n",
       "\n",
       "| BldgType &lt;chr&gt; | n &lt;int&gt; |\n",
       "|---|---|\n",
       "| 1Fam   | 226 |\n",
       "| 2fmCon |   3 |\n",
       "| Duplex |   5 |\n",
       "| Twnhs  |   3 |\n",
       "| TwnhsE |  22 |\n",
       "\n"
      ],
      "text/plain": [
       "  BldgType n  \n",
       "1 1Fam     226\n",
       "2 2fmCon     3\n",
       "3 Duplex     5\n",
       "4 Twnhs      3\n",
       "5 TwnhsE    22"
      ]
     },
     "metadata": {},
     "output_type": "display_data"
    },
    {
     "name": "stdout",
     "output_type": "stream",
     "text": [
      "\n",
      " Overall summary"
     ]
    },
    {
     "data": {
      "text/html": [
       "<table class=\"dataframe\">\n",
       "<caption>A spec_tbl_df: 5 × 2</caption>\n",
       "<thead>\n",
       "\t<tr><th scope=col>BldgType</th><th scope=col>n</th></tr>\n",
       "\t<tr><th scope=col>&lt;chr&gt;</th><th scope=col>&lt;int&gt;</th></tr>\n",
       "</thead>\n",
       "<tbody>\n",
       "\t<tr><td>1Fam  </td><td>1220</td></tr>\n",
       "\t<tr><td>2fmCon</td><td>  31</td></tr>\n",
       "\t<tr><td>Duplex</td><td>  52</td></tr>\n",
       "\t<tr><td>Twnhs </td><td>  43</td></tr>\n",
       "\t<tr><td>TwnhsE</td><td> 114</td></tr>\n",
       "</tbody>\n",
       "</table>\n"
      ],
      "text/latex": [
       "A spec\\_tbl\\_df: 5 × 2\n",
       "\\begin{tabular}{ll}\n",
       " BldgType & n\\\\\n",
       " <chr> & <int>\\\\\n",
       "\\hline\n",
       "\t 1Fam   & 1220\\\\\n",
       "\t 2fmCon &   31\\\\\n",
       "\t Duplex &   52\\\\\n",
       "\t Twnhs  &   43\\\\\n",
       "\t TwnhsE &  114\\\\\n",
       "\\end{tabular}\n"
      ],
      "text/markdown": [
       "\n",
       "A spec_tbl_df: 5 × 2\n",
       "\n",
       "| BldgType &lt;chr&gt; | n &lt;int&gt; |\n",
       "|---|---|\n",
       "| 1Fam   | 1220 |\n",
       "| 2fmCon |   31 |\n",
       "| Duplex |   52 |\n",
       "| Twnhs  |   43 |\n",
       "| TwnhsE |  114 |\n",
       "\n"
      ],
      "text/plain": [
       "  BldgType n   \n",
       "1 1Fam     1220\n",
       "2 2fmCon     31\n",
       "3 Duplex     52\n",
       "4 Twnhs      43\n",
       "5 TwnhsE    114"
      ]
     },
     "metadata": {},
     "output_type": "display_data"
    }
   ],
   "source": [
    "cat('LotFrontage NA summary')\n",
    "train %>% filter(is.na(LotFrontage)) %>% count(BldgType)\n",
    "cat('\\n','Overall summary')\n",
    "train %>% count(BldgType)"
   ]
  },
  {
   "cell_type": "markdown",
   "id": "d17961cb-a98b-4111-a356-e11d1bc1595e",
   "metadata": {},
   "source": [
    "Nope, mostly single family homes. Is there any correlation between lot area and the lot frontage NA?"
   ]
  },
  {
   "cell_type": "code",
   "execution_count": 12,
   "id": "1a431bb1-ab12-4b54-b10e-e4c5188ff1b1",
   "metadata": {},
   "outputs": [
    {
     "name": "stdout",
     "output_type": "stream",
     "text": [
      "LotFrontage NA summary"
     ]
    },
    {
     "data": {
      "text/html": [
       "<table class=\"dataframe\">\n",
       "<caption>A tibble: 1 × 2</caption>\n",
       "<thead>\n",
       "\t<tr><th scope=col>mean(LotArea)</th><th scope=col>median(LotArea)</th></tr>\n",
       "\t<tr><th scope=col>&lt;dbl&gt;</th><th scope=col>&lt;dbl&gt;</th></tr>\n",
       "</thead>\n",
       "<tbody>\n",
       "\t<tr><td>13137.37</td><td>10624</td></tr>\n",
       "</tbody>\n",
       "</table>\n"
      ],
      "text/latex": [
       "A tibble: 1 × 2\n",
       "\\begin{tabular}{ll}\n",
       " mean(LotArea) & median(LotArea)\\\\\n",
       " <dbl> & <dbl>\\\\\n",
       "\\hline\n",
       "\t 13137.37 & 10624\\\\\n",
       "\\end{tabular}\n"
      ],
      "text/markdown": [
       "\n",
       "A tibble: 1 × 2\n",
       "\n",
       "| mean(LotArea) &lt;dbl&gt; | median(LotArea) &lt;dbl&gt; |\n",
       "|---|---|\n",
       "| 13137.37 | 10624 |\n",
       "\n"
      ],
      "text/plain": [
       "  mean(LotArea) median(LotArea)\n",
       "1 13137.37      10624          "
      ]
     },
     "metadata": {},
     "output_type": "display_data"
    },
    {
     "name": "stdout",
     "output_type": "stream",
     "text": [
      "\n",
      " LotFrontage non - NA summary"
     ]
    },
    {
     "data": {
      "text/html": [
       "<table class=\"dataframe\">\n",
       "<caption>A tibble: 1 × 2</caption>\n",
       "<thead>\n",
       "\t<tr><th scope=col>mean(LotArea)</th><th scope=col>median(LotArea)</th></tr>\n",
       "\t<tr><th scope=col>&lt;dbl&gt;</th><th scope=col>&lt;dbl&gt;</th></tr>\n",
       "</thead>\n",
       "<tbody>\n",
       "\t<tr><td>9951.699</td><td>9262</td></tr>\n",
       "</tbody>\n",
       "</table>\n"
      ],
      "text/latex": [
       "A tibble: 1 × 2\n",
       "\\begin{tabular}{ll}\n",
       " mean(LotArea) & median(LotArea)\\\\\n",
       " <dbl> & <dbl>\\\\\n",
       "\\hline\n",
       "\t 9951.699 & 9262\\\\\n",
       "\\end{tabular}\n"
      ],
      "text/markdown": [
       "\n",
       "A tibble: 1 × 2\n",
       "\n",
       "| mean(LotArea) &lt;dbl&gt; | median(LotArea) &lt;dbl&gt; |\n",
       "|---|---|\n",
       "| 9951.699 | 9262 |\n",
       "\n"
      ],
      "text/plain": [
       "  mean(LotArea) median(LotArea)\n",
       "1 9951.699      9262           "
      ]
     },
     "metadata": {},
     "output_type": "display_data"
    }
   ],
   "source": [
    "cat('LotFrontage NA summary')\n",
    "train %>% filter(is.na(LotFrontage)) %>% summarize(mean(LotArea), median(LotArea))\n",
    "cat('\\n','LotFrontage non - NA summary')\n",
    "train %>% filter(!is.na(LotFrontage)) %>% summarize(mean(LotArea), median(LotArea))"
   ]
  },
  {
   "cell_type": "markdown",
   "id": "5d957ed4-8e08-486b-b819-18bf13427ed2",
   "metadata": {},
   "source": [
    "That's a little interesting. So the houses that are missing lot frontage data tend to be on larger lots. What about square footage of the house itself?"
   ]
  },
  {
   "cell_type": "code",
   "execution_count": 13,
   "id": "c39f9aa6-3615-425f-8057-01d449489170",
   "metadata": {},
   "outputs": [
    {
     "name": "stdout",
     "output_type": "stream",
     "text": [
      "LotFrontage NA summary"
     ]
    },
    {
     "data": {
      "text/html": [
       "<table class=\"dataframe\">\n",
       "<caption>A tibble: 1 × 1</caption>\n",
       "<thead>\n",
       "\t<tr><th scope=col>mean(GrLivArea)</th></tr>\n",
       "\t<tr><th scope=col>&lt;dbl&gt;</th></tr>\n",
       "</thead>\n",
       "<tbody>\n",
       "\t<tr><td>1535.548</td></tr>\n",
       "</tbody>\n",
       "</table>\n"
      ],
      "text/latex": [
       "A tibble: 1 × 1\n",
       "\\begin{tabular}{l}\n",
       " mean(GrLivArea)\\\\\n",
       " <dbl>\\\\\n",
       "\\hline\n",
       "\t 1535.548\\\\\n",
       "\\end{tabular}\n"
      ],
      "text/markdown": [
       "\n",
       "A tibble: 1 × 1\n",
       "\n",
       "| mean(GrLivArea) &lt;dbl&gt; |\n",
       "|---|\n",
       "| 1535.548 |\n",
       "\n"
      ],
      "text/plain": [
       "  mean(GrLivArea)\n",
       "1 1535.548       "
      ]
     },
     "metadata": {},
     "output_type": "display_data"
    },
    {
     "name": "stdout",
     "output_type": "stream",
     "text": [
      "\n",
      " LotFrontage non-NA summary"
     ]
    },
    {
     "data": {
      "text/html": [
       "<table class=\"dataframe\">\n",
       "<caption>A tibble: 1 × 1</caption>\n",
       "<thead>\n",
       "\t<tr><th scope=col>mean(GrLivArea)</th></tr>\n",
       "\t<tr><th scope=col>&lt;dbl&gt;</th></tr>\n",
       "</thead>\n",
       "<tbody>\n",
       "\t<tr><td>1511.132</td></tr>\n",
       "</tbody>\n",
       "</table>\n"
      ],
      "text/latex": [
       "A tibble: 1 × 1\n",
       "\\begin{tabular}{l}\n",
       " mean(GrLivArea)\\\\\n",
       " <dbl>\\\\\n",
       "\\hline\n",
       "\t 1511.132\\\\\n",
       "\\end{tabular}\n"
      ],
      "text/markdown": [
       "\n",
       "A tibble: 1 × 1\n",
       "\n",
       "| mean(GrLivArea) &lt;dbl&gt; |\n",
       "|---|\n",
       "| 1511.132 |\n",
       "\n"
      ],
      "text/plain": [
       "  mean(GrLivArea)\n",
       "1 1511.132       "
      ]
     },
     "metadata": {},
     "output_type": "display_data"
    }
   ],
   "source": [
    "cat('LotFrontage NA summary')\n",
    "train %>% filter(is.na(LotFrontage)) %>% summarize(mean(GrLivArea))\n",
    "cat('\\n','LotFrontage non-NA summary')\n",
    "train %>% filter(!is.na(LotFrontage)) %>% summarize(mean(GrLivArea))"
   ]
  },
  {
   "cell_type": "markdown",
   "id": "89e2911a-c88e-4a0c-85fa-fb2bcd79142d",
   "metadata": {},
   "source": [
    "Not much of difference there - and the lot area isn't much to go on on its own.\n",
    "\n",
    "It seems a shame to drop ~18% of the data, but it doesn't seem like there is an obvious value to replace these NA values with.\n",
    "\n",
    "Let check the two masonry columns quick before dropping NA data:"
   ]
  },
  {
   "cell_type": "code",
   "execution_count": 14,
   "id": "8e480c8e-7e6f-4bb9-a118-5e0d89717e4c",
   "metadata": {
    "tags": []
   },
   "outputs": [
    {
     "data": {
      "text/html": [
       "<table class=\"dataframe\">\n",
       "<caption>A spec_tbl_df: 5 × 2</caption>\n",
       "<thead>\n",
       "\t<tr><th scope=col>MasVnrType</th><th scope=col>n</th></tr>\n",
       "\t<tr><th scope=col>&lt;chr&gt;</th><th scope=col>&lt;int&gt;</th></tr>\n",
       "</thead>\n",
       "<tbody>\n",
       "\t<tr><td>BrkCmn </td><td> 15</td></tr>\n",
       "\t<tr><td>BrkFace</td><td>445</td></tr>\n",
       "\t<tr><td>None   </td><td>864</td></tr>\n",
       "\t<tr><td>Stone  </td><td>128</td></tr>\n",
       "\t<tr><td>NA     </td><td>  8</td></tr>\n",
       "</tbody>\n",
       "</table>\n"
      ],
      "text/latex": [
       "A spec\\_tbl\\_df: 5 × 2\n",
       "\\begin{tabular}{ll}\n",
       " MasVnrType & n\\\\\n",
       " <chr> & <int>\\\\\n",
       "\\hline\n",
       "\t BrkCmn  &  15\\\\\n",
       "\t BrkFace & 445\\\\\n",
       "\t None    & 864\\\\\n",
       "\t Stone   & 128\\\\\n",
       "\t NA      &   8\\\\\n",
       "\\end{tabular}\n"
      ],
      "text/markdown": [
       "\n",
       "A spec_tbl_df: 5 × 2\n",
       "\n",
       "| MasVnrType &lt;chr&gt; | n &lt;int&gt; |\n",
       "|---|---|\n",
       "| BrkCmn  |  15 |\n",
       "| BrkFace | 445 |\n",
       "| None    | 864 |\n",
       "| Stone   | 128 |\n",
       "| NA      |   8 |\n",
       "\n"
      ],
      "text/plain": [
       "  MasVnrType n  \n",
       "1 BrkCmn      15\n",
       "2 BrkFace    445\n",
       "3 None       864\n",
       "4 Stone      128\n",
       "5 NA           8"
      ]
     },
     "metadata": {},
     "output_type": "display_data"
    },
    {
     "data": {
      "text/html": [
       "<table class=\"dataframe\">\n",
       "<caption>A tibble: 8 × 2</caption>\n",
       "<thead>\n",
       "\t<tr><th scope=col>MasVnrType</th><th scope=col>MasVnrArea</th></tr>\n",
       "\t<tr><th scope=col>&lt;chr&gt;</th><th scope=col>&lt;dbl&gt;</th></tr>\n",
       "</thead>\n",
       "<tbody>\n",
       "\t<tr><td>NA</td><td>NA</td></tr>\n",
       "\t<tr><td>NA</td><td>NA</td></tr>\n",
       "\t<tr><td>NA</td><td>NA</td></tr>\n",
       "\t<tr><td>NA</td><td>NA</td></tr>\n",
       "\t<tr><td>NA</td><td>NA</td></tr>\n",
       "\t<tr><td>NA</td><td>NA</td></tr>\n",
       "\t<tr><td>NA</td><td>NA</td></tr>\n",
       "\t<tr><td>NA</td><td>NA</td></tr>\n",
       "</tbody>\n",
       "</table>\n"
      ],
      "text/latex": [
       "A tibble: 8 × 2\n",
       "\\begin{tabular}{ll}\n",
       " MasVnrType & MasVnrArea\\\\\n",
       " <chr> & <dbl>\\\\\n",
       "\\hline\n",
       "\t NA & NA\\\\\n",
       "\t NA & NA\\\\\n",
       "\t NA & NA\\\\\n",
       "\t NA & NA\\\\\n",
       "\t NA & NA\\\\\n",
       "\t NA & NA\\\\\n",
       "\t NA & NA\\\\\n",
       "\t NA & NA\\\\\n",
       "\\end{tabular}\n"
      ],
      "text/markdown": [
       "\n",
       "A tibble: 8 × 2\n",
       "\n",
       "| MasVnrType &lt;chr&gt; | MasVnrArea &lt;dbl&gt; |\n",
       "|---|---|\n",
       "| NA | NA |\n",
       "| NA | NA |\n",
       "| NA | NA |\n",
       "| NA | NA |\n",
       "| NA | NA |\n",
       "| NA | NA |\n",
       "| NA | NA |\n",
       "| NA | NA |\n",
       "\n"
      ],
      "text/plain": [
       "  MasVnrType MasVnrArea\n",
       "1 NA         NA        \n",
       "2 NA         NA        \n",
       "3 NA         NA        \n",
       "4 NA         NA        \n",
       "5 NA         NA        \n",
       "6 NA         NA        \n",
       "7 NA         NA        \n",
       "8 NA         NA        "
      ]
     },
     "metadata": {},
     "output_type": "display_data"
    }
   ],
   "source": [
    "train %>% count(MasVnrType)\n",
    "train %>% select(MasVnrType,MasVnrArea) %>% filter(is.na(MasVnrType))"
   ]
  },
  {
   "cell_type": "markdown",
   "id": "df2f2ae2-f1f0-49e6-b535-eff0a5a67f7c",
   "metadata": {},
   "source": [
    "So the houses with NA in the masonry column are only a small fraction of the houses that actually have masonry = \"None\". Just to confirm..."
   ]
  },
  {
   "cell_type": "code",
   "execution_count": 15,
   "id": "ed2b4c15-4388-430b-aff7-04dcdaea4f2c",
   "metadata": {},
   "outputs": [
    {
     "data": {
      "text/html": [
       "<table class=\"dataframe\">\n",
       "<caption>A spec_tbl_df: 1 × 2</caption>\n",
       "<thead>\n",
       "\t<tr><th scope=col>MasVnrArea</th><th scope=col>n</th></tr>\n",
       "\t<tr><th scope=col>&lt;dbl&gt;</th><th scope=col>&lt;int&gt;</th></tr>\n",
       "</thead>\n",
       "<tbody>\n",
       "\t<tr><td>0</td><td>861</td></tr>\n",
       "</tbody>\n",
       "</table>\n"
      ],
      "text/latex": [
       "A spec\\_tbl\\_df: 1 × 2\n",
       "\\begin{tabular}{ll}\n",
       " MasVnrArea & n\\\\\n",
       " <dbl> & <int>\\\\\n",
       "\\hline\n",
       "\t 0 & 861\\\\\n",
       "\\end{tabular}\n"
      ],
      "text/markdown": [
       "\n",
       "A spec_tbl_df: 1 × 2\n",
       "\n",
       "| MasVnrArea &lt;dbl&gt; | n &lt;int&gt; |\n",
       "|---|---|\n",
       "| 0 | 861 |\n",
       "\n"
      ],
      "text/plain": [
       "  MasVnrArea n  \n",
       "1 0          861"
      ]
     },
     "metadata": {},
     "output_type": "display_data"
    }
   ],
   "source": [
    "train %>% filter(MasVnrArea == 0) %>% count (MasVnrArea)"
   ]
  },
  {
   "cell_type": "markdown",
   "id": "b52cce5f-b699-41bb-af0c-8440c8098ccc",
   "metadata": {},
   "source": [
    "...the zero areas in MasVnrArea account for almost all (all but 3) of the \"None\" values in the MasVnrType column. The NA values could correspond to zero, but it is still prudent to remove them anyway, since this is uncertain."
   ]
  },
  {
   "cell_type": "markdown",
   "id": "e4c1b054-c7f0-4cd8-b2b7-6d603df73849",
   "metadata": {},
   "source": [
    "One last thing to check is the impact of the LotFrontage values that are about to be dropped on the sales price:"
   ]
  },
  {
   "cell_type": "code",
   "execution_count": 16,
   "id": "eda2ce58-09f5-492d-b99c-80d9c1eff063",
   "metadata": {},
   "outputs": [
    {
     "data": {
      "text/html": [
       "<table class=\"dataframe\">\n",
       "<caption>A tibble: 1 × 2</caption>\n",
       "<thead>\n",
       "\t<tr><th scope=col>Mean of SalePrice for LotFrontage NA</th><th scope=col>Median of SalePrice for LotFrontage NA</th></tr>\n",
       "\t<tr><th scope=col>&lt;dbl&gt;</th><th scope=col>&lt;dbl&gt;</th></tr>\n",
       "</thead>\n",
       "<tbody>\n",
       "\t<tr><td>181620.1</td><td>172400</td></tr>\n",
       "</tbody>\n",
       "</table>\n"
      ],
      "text/latex": [
       "A tibble: 1 × 2\n",
       "\\begin{tabular}{ll}\n",
       " Mean of SalePrice for LotFrontage NA & Median of SalePrice for LotFrontage NA\\\\\n",
       " <dbl> & <dbl>\\\\\n",
       "\\hline\n",
       "\t 181620.1 & 172400\\\\\n",
       "\\end{tabular}\n"
      ],
      "text/markdown": [
       "\n",
       "A tibble: 1 × 2\n",
       "\n",
       "| Mean of SalePrice for LotFrontage NA &lt;dbl&gt; | Median of SalePrice for LotFrontage NA &lt;dbl&gt; |\n",
       "|---|---|\n",
       "| 181620.1 | 172400 |\n",
       "\n"
      ],
      "text/plain": [
       "  Mean of SalePrice for LotFrontage NA Median of SalePrice for LotFrontage NA\n",
       "1 181620.1                             172400                                "
      ]
     },
     "metadata": {},
     "output_type": "display_data"
    },
    {
     "data": {
      "text/html": [
       "<table class=\"dataframe\">\n",
       "<caption>A tibble: 1 × 2</caption>\n",
       "<thead>\n",
       "\t<tr><th scope=col>Mean of SalePrice for remainder of houses</th><th scope=col>Median of SalePrice for remainder of houses</th></tr>\n",
       "\t<tr><th scope=col>&lt;dbl&gt;</th><th scope=col>&lt;dbl&gt;</th></tr>\n",
       "</thead>\n",
       "<tbody>\n",
       "\t<tr><td>180770.5</td><td>159500</td></tr>\n",
       "</tbody>\n",
       "</table>\n"
      ],
      "text/latex": [
       "A tibble: 1 × 2\n",
       "\\begin{tabular}{ll}\n",
       " Mean of SalePrice for remainder of houses & Median of SalePrice for remainder of houses\\\\\n",
       " <dbl> & <dbl>\\\\\n",
       "\\hline\n",
       "\t 180770.5 & 159500\\\\\n",
       "\\end{tabular}\n"
      ],
      "text/markdown": [
       "\n",
       "A tibble: 1 × 2\n",
       "\n",
       "| Mean of SalePrice for remainder of houses &lt;dbl&gt; | Median of SalePrice for remainder of houses &lt;dbl&gt; |\n",
       "|---|---|\n",
       "| 180770.5 | 159500 |\n",
       "\n"
      ],
      "text/plain": [
       "  Mean of SalePrice for remainder of houses\n",
       "1 180770.5                                 \n",
       "  Median of SalePrice for remainder of houses\n",
       "1 159500                                     "
      ]
     },
     "metadata": {},
     "output_type": "display_data"
    }
   ],
   "source": [
    "train %>% filter(is.na(LotFrontage)) %>% summarize('Mean of SalePrice for LotFrontage NA' = mean(SalePrice), 'Median of SalePrice for LotFrontage NA' = median(SalePrice))\n",
    "train %>% filter(!is.na(LotFrontage)) %>% summarize('Mean of SalePrice for remainder of houses' = mean(SalePrice), 'Median of SalePrice for remainder of houses' = median(SalePrice))"
   ]
  },
  {
   "cell_type": "markdown",
   "id": "9f009c60-6eba-47d5-b020-93056f1e1560",
   "metadata": {},
   "source": [
    "Hardly any difference in the mean, but there is a difference in the medians, suggesting these are higher value houses (intuition would also support this based on the larger LotArea, which would probably result in increased property values). However, without any definitive indication what is an appropriate replacement for these NA values in the LotFrontage column, they will have to be dropped.\n",
    "\n",
    "(One possibility is that these are higher value houses that are displaced back from the streetfront, and NA in the LotFrontage is how this was recorded, but this is only a guess that has not been proven.)"
   ]
  },
  {
   "cell_type": "code",
   "execution_count": 17,
   "id": "c5cb0b1b-f50e-4733-8fc5-a1d2f9e44784",
   "metadata": {},
   "outputs": [],
   "source": [
    "train <- train %>% drop_na(LotFrontage, Electrical, MasVnrType, MasVnrArea)"
   ]
  },
  {
   "cell_type": "code",
   "execution_count": 18,
   "id": "f1279176-a65a-43c5-8fa2-cf4d8a9c378c",
   "metadata": {},
   "outputs": [
    {
     "data": {
      "text/html": [
       "<style>\n",
       ".list-inline {list-style: none; margin:0; padding: 0}\n",
       ".list-inline>li {display: inline-block}\n",
       ".list-inline>li:not(:last-child)::after {content: \"\\00b7\"; padding: 0 .5ex}\n",
       "</style>\n",
       "<ol class=list-inline><li>'Alley'</li><li>'BsmtQual'</li><li>'BsmtCond'</li><li>'BsmtExposure'</li><li>'BsmtFinType1'</li><li>'BsmtFinType2'</li><li>'FireplaceQu'</li><li>'GarageType'</li><li>'GarageYrBlt'</li><li>'GarageFinish'</li><li>'GarageQual'</li><li>'GarageCond'</li><li>'PoolQC'</li><li>'Fence'</li><li>'MiscFeature'</li></ol>\n"
      ],
      "text/latex": [
       "\\begin{enumerate*}\n",
       "\\item 'Alley'\n",
       "\\item 'BsmtQual'\n",
       "\\item 'BsmtCond'\n",
       "\\item 'BsmtExposure'\n",
       "\\item 'BsmtFinType1'\n",
       "\\item 'BsmtFinType2'\n",
       "\\item 'FireplaceQu'\n",
       "\\item 'GarageType'\n",
       "\\item 'GarageYrBlt'\n",
       "\\item 'GarageFinish'\n",
       "\\item 'GarageQual'\n",
       "\\item 'GarageCond'\n",
       "\\item 'PoolQC'\n",
       "\\item 'Fence'\n",
       "\\item 'MiscFeature'\n",
       "\\end{enumerate*}\n"
      ],
      "text/markdown": [
       "1. 'Alley'\n",
       "2. 'BsmtQual'\n",
       "3. 'BsmtCond'\n",
       "4. 'BsmtExposure'\n",
       "5. 'BsmtFinType1'\n",
       "6. 'BsmtFinType2'\n",
       "7. 'FireplaceQu'\n",
       "8. 'GarageType'\n",
       "9. 'GarageYrBlt'\n",
       "10. 'GarageFinish'\n",
       "11. 'GarageQual'\n",
       "12. 'GarageCond'\n",
       "13. 'PoolQC'\n",
       "14. 'Fence'\n",
       "15. 'MiscFeature'\n",
       "\n",
       "\n"
      ],
      "text/plain": [
       " [1] \"Alley\"        \"BsmtQual\"     \"BsmtCond\"     \"BsmtExposure\" \"BsmtFinType1\"\n",
       " [6] \"BsmtFinType2\" \"FireplaceQu\"  \"GarageType\"   \"GarageYrBlt\"  \"GarageFinish\"\n",
       "[11] \"GarageQual\"   \"GarageCond\"   \"PoolQC\"       \"Fence\"        \"MiscFeature\" "
      ]
     },
     "metadata": {},
     "output_type": "display_data"
    }
   ],
   "source": [
    "NA_columns <- names(train)[sapply(train,anyNA)]\n",
    "NA_columns"
   ]
  },
  {
   "cell_type": "markdown",
   "id": "aa8fd4ef-6c9d-4d44-9306-fb4961714716",
   "metadata": {},
   "source": [
    "Only the columns where NA has a documented meaning remain.\n",
    "\n",
    "Now that extraneous NA values have been removed, we can start visualizing the data to gain further insights (continued in Part 2)."
   ]
  }
 ],
 "metadata": {
  "kernelspec": {
   "display_name": "R",
   "language": "R",
   "name": "ir"
  },
  "language_info": {
   "codemirror_mode": "r",
   "file_extension": ".r",
   "mimetype": "text/x-r-source",
   "name": "R",
   "pygments_lexer": "r",
   "version": "4.1.3"
  }
 },
 "nbformat": 4,
 "nbformat_minor": 5
}
